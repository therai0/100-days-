{
 "cells": [
  {
   "cell_type": "markdown",
   "id": "a2f048c0",
   "metadata": {},
   "source": [
    "\n",
    "\n",
    "## Task Description: Real Estate Price Prediction\n",
    "\n",
    "This task involves predicting the price of real estate properties based on various features that influence the value of a property. The dataset contains several attributes of real estate properties such as square footage, the number of bedrooms, bathrooms, floors, the year the property was built, whether the property has a garden or pool, the size of the garage, the location score, and the distance from the city center.\n",
    "\n",
    "The goal is to build a regression model that can predict the Price of a property based on the provided features.\n",
    "\n",
    "Dataset Columns:\n",
    "\n",
    "ID: A unique identifier for each property.\n",
    "\n",
    "Square_Feet: The area of the property in square meters.\n",
    "\n",
    "Num_Bedrooms: The number of bedrooms in the property.\n",
    "\n",
    "Num_Bathrooms: The number of bathrooms in the property.\n",
    "\n",
    "Num_Floors: The number of floors in the property.\n",
    "\n",
    "Year_Built: The year the property was built.\n",
    "\n",
    "Has_Garden: Indicates whether the property has a garden (1 for yes, 0 for no).\n",
    "\n",
    "Has_Pool: Indicates whether the property has a pool (1 for yes, 0 for no).\n",
    "\n",
    "Garage_Size: The size of the garage in square meters.\n",
    "\n",
    "Location_Score: A score from 0 to 10 indicating the quality of the neighborhood (higher scores indicate better neighborhoods).\n",
    "\n",
    "Distance_to_Center: The distance from the property to the city center in kilometers.\n",
    "\n",
    "Price: The target variable that represents the price of the property. This is the value we aim to predict.\n",
    "\n",
    "Objective:\n",
    "The goal of this task is to develop a regression model that predicts the Price of a real estate property using the other features as inputs. The model should be able to learn the relationship between these features and the price, providing an accurate prediction for unseen data."
   ]
  },
  {
   "cell_type": "code",
   "execution_count": 18,
   "id": "2ddc577b",
   "metadata": {},
   "outputs": [],
   "source": [
    "import pandas as pd\n",
    "import numpy as np\n",
    "import matplotlib.pyplot as plt \n",
    "import seaborn as sns "
   ]
  },
  {
   "cell_type": "code",
   "execution_count": 51,
   "id": "02c25bb4",
   "metadata": {},
   "outputs": [],
   "source": [
    "dataset = pd.read_csv('real_estate_dataset.csv')"
   ]
  },
  {
   "cell_type": "code",
   "execution_count": 52,
   "id": "7c913576",
   "metadata": {},
   "outputs": [
    {
     "data": {
      "text/plain": [
       "ID                    0\n",
       "Square_Feet           0\n",
       "Num_Bedrooms          0\n",
       "Num_Bathrooms         0\n",
       "Num_Floors            0\n",
       "Year_Built            0\n",
       "Has_Garden            0\n",
       "Has_Pool              0\n",
       "Garage_Size           0\n",
       "Location_Score        0\n",
       "Distance_to_Center    0\n",
       "Price                 0\n",
       "dtype: int64"
      ]
     },
     "execution_count": 52,
     "metadata": {},
     "output_type": "execute_result"
    }
   ],
   "source": [
    "dataset.isnull().sum()"
   ]
  },
  {
   "cell_type": "code",
   "execution_count": 53,
   "id": "df597028",
   "metadata": {},
   "outputs": [],
   "source": [
    "# independent and dependet features\n",
    "x = dataset.drop(['Price'],axis=1)\n",
    "y = dataset['Price']"
   ]
  },
  {
   "cell_type": "code",
   "execution_count": 54,
   "id": "33144f64",
   "metadata": {},
   "outputs": [
    {
     "name": "stdout",
     "output_type": "stream",
     "text": [
      "<class 'pandas.core.frame.DataFrame'>\n",
      "RangeIndex: 500 entries, 0 to 499\n",
      "Data columns (total 11 columns):\n",
      " #   Column              Non-Null Count  Dtype  \n",
      "---  ------              --------------  -----  \n",
      " 0   ID                  500 non-null    int64  \n",
      " 1   Square_Feet         500 non-null    float64\n",
      " 2   Num_Bedrooms        500 non-null    int64  \n",
      " 3   Num_Bathrooms       500 non-null    int64  \n",
      " 4   Num_Floors          500 non-null    int64  \n",
      " 5   Year_Built          500 non-null    int64  \n",
      " 6   Has_Garden          500 non-null    int64  \n",
      " 7   Has_Pool            500 non-null    int64  \n",
      " 8   Garage_Size         500 non-null    int64  \n",
      " 9   Location_Score      500 non-null    float64\n",
      " 10  Distance_to_Center  500 non-null    float64\n",
      "dtypes: float64(3), int64(8)\n",
      "memory usage: 43.1 KB\n"
     ]
    }
   ],
   "source": [
    "x.info()"
   ]
  },
  {
   "cell_type": "code",
   "execution_count": 55,
   "id": "84179b43",
   "metadata": {},
   "outputs": [],
   "source": [
    "x.drop(['ID'],axis=1,inplace=True)"
   ]
  },
  {
   "cell_type": "markdown",
   "id": "70f0d2b5",
   "metadata": {},
   "source": [
    "## Split train and test data "
   ]
  },
  {
   "cell_type": "code",
   "execution_count": 56,
   "id": "219851e5",
   "metadata": {},
   "outputs": [],
   "source": [
    "from sklearn.model_selection import train_test_split\n",
    "x_train,x_test,y_train,y_test = train_test_split(x,y,test_size=0.2,random_state=40)"
   ]
  },
  {
   "cell_type": "code",
   "execution_count": 57,
   "id": "e77e83ca",
   "metadata": {},
   "outputs": [],
   "source": [
    "# scaling the dataset \n",
    "from sklearn.compose import ColumnTransformer\n",
    "from sklearn.preprocessing import StandardScaler\n",
    "\n",
    "# numeric features\n",
    "num_features = [feature for feature in x.columns if x.columns.dtype != 'o' ]"
   ]
  },
  {
   "cell_type": "code",
   "execution_count": 58,
   "id": "ad1a5114",
   "metadata": {},
   "outputs": [],
   "source": [
    "scalar = StandardScaler()\n",
    "transformer = ColumnTransformer(\n",
    "    transformers = [\n",
    "            ('numeric',scalar,num_features)\n",
    "    ]\n",
    ")"
   ]
  },
  {
   "cell_type": "code",
   "execution_count": 59,
   "id": "cd091bb2",
   "metadata": {},
   "outputs": [],
   "source": [
    "# scaling \n",
    "X_scaled_train = transformer.fit_transform(x_train)\n",
    "X_scaled_test = transformer.transform(x_test)"
   ]
  },
  {
   "cell_type": "code",
   "execution_count": 60,
   "id": "398633ac",
   "metadata": {},
   "outputs": [
    {
     "data": {
      "text/html": [
       "<div>\n",
       "<style scoped>\n",
       "    .dataframe tbody tr th:only-of-type {\n",
       "        vertical-align: middle;\n",
       "    }\n",
       "\n",
       "    .dataframe tbody tr th {\n",
       "        vertical-align: top;\n",
       "    }\n",
       "\n",
       "    .dataframe thead th {\n",
       "        text-align: right;\n",
       "    }\n",
       "</style>\n",
       "<table border=\"1\" class=\"dataframe\">\n",
       "  <thead>\n",
       "    <tr style=\"text-align: right;\">\n",
       "      <th></th>\n",
       "      <th>0</th>\n",
       "      <th>1</th>\n",
       "      <th>2</th>\n",
       "      <th>3</th>\n",
       "      <th>4</th>\n",
       "      <th>5</th>\n",
       "      <th>6</th>\n",
       "      <th>7</th>\n",
       "      <th>8</th>\n",
       "      <th>9</th>\n",
       "    </tr>\n",
       "  </thead>\n",
       "  <tbody>\n",
       "    <tr>\n",
       "      <th>0</th>\n",
       "      <td>-0.715999</td>\n",
       "      <td>-1.349236</td>\n",
       "      <td>1.238150</td>\n",
       "      <td>1.307531</td>\n",
       "      <td>-0.089167</td>\n",
       "      <td>0.913708</td>\n",
       "      <td>-0.985111</td>\n",
       "      <td>0.446042</td>\n",
       "      <td>-0.734852</td>\n",
       "      <td>-0.850733</td>\n",
       "    </tr>\n",
       "    <tr>\n",
       "      <th>1</th>\n",
       "      <td>-1.322680</td>\n",
       "      <td>1.393810</td>\n",
       "      <td>-1.183659</td>\n",
       "      <td>1.307531</td>\n",
       "      <td>0.311906</td>\n",
       "      <td>-1.094442</td>\n",
       "      <td>1.015114</td>\n",
       "      <td>-1.194771</td>\n",
       "      <td>-0.115710</td>\n",
       "      <td>0.539145</td>\n",
       "    </tr>\n",
       "    <tr>\n",
       "      <th>2</th>\n",
       "      <td>1.099175</td>\n",
       "      <td>-0.663474</td>\n",
       "      <td>1.238150</td>\n",
       "      <td>-1.200922</td>\n",
       "      <td>0.884867</td>\n",
       "      <td>0.913708</td>\n",
       "      <td>-0.985111</td>\n",
       "      <td>1.482345</td>\n",
       "      <td>-1.221932</td>\n",
       "      <td>-0.440629</td>\n",
       "    </tr>\n",
       "    <tr>\n",
       "      <th>3</th>\n",
       "      <td>0.946596</td>\n",
       "      <td>0.708049</td>\n",
       "      <td>1.238150</td>\n",
       "      <td>1.307531</td>\n",
       "      <td>-0.977257</td>\n",
       "      <td>0.913708</td>\n",
       "      <td>-0.985111</td>\n",
       "      <td>1.395986</td>\n",
       "      <td>-0.441303</td>\n",
       "      <td>-0.651598</td>\n",
       "    </tr>\n",
       "    <tr>\n",
       "      <th>4</th>\n",
       "      <td>-0.419581</td>\n",
       "      <td>-0.663474</td>\n",
       "      <td>1.238150</td>\n",
       "      <td>0.053305</td>\n",
       "      <td>0.197314</td>\n",
       "      <td>-1.094442</td>\n",
       "      <td>1.015114</td>\n",
       "      <td>-0.158468</td>\n",
       "      <td>-1.344410</td>\n",
       "      <td>-0.377762</td>\n",
       "    </tr>\n",
       "    <tr>\n",
       "      <th>...</th>\n",
       "      <td>...</td>\n",
       "      <td>...</td>\n",
       "      <td>...</td>\n",
       "      <td>...</td>\n",
       "      <td>...</td>\n",
       "      <td>...</td>\n",
       "      <td>...</td>\n",
       "      <td>...</td>\n",
       "      <td>...</td>\n",
       "      <td>...</td>\n",
       "    </tr>\n",
       "    <tr>\n",
       "      <th>395</th>\n",
       "      <td>-1.377345</td>\n",
       "      <td>1.393810</td>\n",
       "      <td>-1.183659</td>\n",
       "      <td>0.053305</td>\n",
       "      <td>0.541090</td>\n",
       "      <td>0.913708</td>\n",
       "      <td>1.015114</td>\n",
       "      <td>0.618759</td>\n",
       "      <td>0.241343</td>\n",
       "      <td>0.888047</td>\n",
       "    </tr>\n",
       "    <tr>\n",
       "      <th>396</th>\n",
       "      <td>1.141813</td>\n",
       "      <td>0.022287</td>\n",
       "      <td>-1.183659</td>\n",
       "      <td>1.307531</td>\n",
       "      <td>-1.206442</td>\n",
       "      <td>0.913708</td>\n",
       "      <td>-0.985111</td>\n",
       "      <td>1.655062</td>\n",
       "      <td>1.249325</td>\n",
       "      <td>1.292400</td>\n",
       "    </tr>\n",
       "    <tr>\n",
       "      <th>397</th>\n",
       "      <td>1.245449</td>\n",
       "      <td>1.393810</td>\n",
       "      <td>-1.183659</td>\n",
       "      <td>1.307531</td>\n",
       "      <td>0.455146</td>\n",
       "      <td>0.913708</td>\n",
       "      <td>1.015114</td>\n",
       "      <td>0.791476</td>\n",
       "      <td>1.457212</td>\n",
       "      <td>0.399235</td>\n",
       "    </tr>\n",
       "    <tr>\n",
       "      <th>398</th>\n",
       "      <td>1.188542</td>\n",
       "      <td>-0.663474</td>\n",
       "      <td>0.027245</td>\n",
       "      <td>0.053305</td>\n",
       "      <td>-1.464274</td>\n",
       "      <td>0.913708</td>\n",
       "      <td>1.015114</td>\n",
       "      <td>0.964193</td>\n",
       "      <td>-0.178793</td>\n",
       "      <td>-0.526754</td>\n",
       "    </tr>\n",
       "    <tr>\n",
       "      <th>399</th>\n",
       "      <td>0.198726</td>\n",
       "      <td>0.708049</td>\n",
       "      <td>-1.183659</td>\n",
       "      <td>0.053305</td>\n",
       "      <td>1.285940</td>\n",
       "      <td>-1.094442</td>\n",
       "      <td>-0.985111</td>\n",
       "      <td>0.964193</td>\n",
       "      <td>-1.175195</td>\n",
       "      <td>-1.487052</td>\n",
       "    </tr>\n",
       "  </tbody>\n",
       "</table>\n",
       "<p>400 rows × 10 columns</p>\n",
       "</div>"
      ],
      "text/plain": [
       "            0         1         2         3         4         5         6  \\\n",
       "0   -0.715999 -1.349236  1.238150  1.307531 -0.089167  0.913708 -0.985111   \n",
       "1   -1.322680  1.393810 -1.183659  1.307531  0.311906 -1.094442  1.015114   \n",
       "2    1.099175 -0.663474  1.238150 -1.200922  0.884867  0.913708 -0.985111   \n",
       "3    0.946596  0.708049  1.238150  1.307531 -0.977257  0.913708 -0.985111   \n",
       "4   -0.419581 -0.663474  1.238150  0.053305  0.197314 -1.094442  1.015114   \n",
       "..        ...       ...       ...       ...       ...       ...       ...   \n",
       "395 -1.377345  1.393810 -1.183659  0.053305  0.541090  0.913708  1.015114   \n",
       "396  1.141813  0.022287 -1.183659  1.307531 -1.206442  0.913708 -0.985111   \n",
       "397  1.245449  1.393810 -1.183659  1.307531  0.455146  0.913708  1.015114   \n",
       "398  1.188542 -0.663474  0.027245  0.053305 -1.464274  0.913708  1.015114   \n",
       "399  0.198726  0.708049 -1.183659  0.053305  1.285940 -1.094442 -0.985111   \n",
       "\n",
       "            7         8         9  \n",
       "0    0.446042 -0.734852 -0.850733  \n",
       "1   -1.194771 -0.115710  0.539145  \n",
       "2    1.482345 -1.221932 -0.440629  \n",
       "3    1.395986 -0.441303 -0.651598  \n",
       "4   -0.158468 -1.344410 -0.377762  \n",
       "..        ...       ...       ...  \n",
       "395  0.618759  0.241343  0.888047  \n",
       "396  1.655062  1.249325  1.292400  \n",
       "397  0.791476  1.457212  0.399235  \n",
       "398  0.964193 -0.178793 -0.526754  \n",
       "399  0.964193 -1.175195 -1.487052  \n",
       "\n",
       "[400 rows x 10 columns]"
      ]
     },
     "execution_count": 60,
     "metadata": {},
     "output_type": "execute_result"
    }
   ],
   "source": [
    "pd.DataFrame(X_scaled_train)"
   ]
  },
  {
   "cell_type": "markdown",
   "id": "8bed40cf",
   "metadata": {},
   "source": [
    "## Traning model"
   ]
  },
  {
   "cell_type": "code",
   "execution_count": 84,
   "id": "e4ebc854",
   "metadata": {},
   "outputs": [],
   "source": [
    "from sklearn.linear_model import LinearRegression,Lasso,Ridge,ElasticNet\n",
    "models = {\n",
    "    \"Linear regression\":LinearRegression(),\n",
    "    \"Lasso Regression\":Lasso(),\n",
    "    \"Rigde Regression\":Ridge(),\n",
    "    \"ElasticNet\":ElasticNet()\n",
    "}"
   ]
  },
  {
   "cell_type": "code",
   "execution_count": 85,
   "id": "29fd135a",
   "metadata": {},
   "outputs": [
    {
     "name": "stdout",
     "output_type": "stream",
     "text": [
      "Linear regression\n",
      "R^2 Value:0.9752624071277095\n",
      "Adjusted R^2 value:0.9724829023105982\n",
      "Mean Squared error:339559062.34494233\n",
      "Mean Absolute error:14607.110175890448\n",
      "\n",
      "Lasso Regression\n",
      "R^2 Value:0.9752609492503973\n",
      "Adjusted R^2 value:0.9724812806268465\n",
      "Mean Squared error:339579073.8091013\n",
      "Mean Absolute error:14607.752808823383\n",
      "\n",
      "Rigde Regression\n",
      "R^2 Value:0.9751471573707569\n",
      "Adjusted R^2 value:0.972354703142752\n",
      "Mean Squared error:341141031.1164523\n",
      "Mean Absolute error:14651.802834205211\n",
      "\n",
      "ElasticNet\n",
      "R^2 Value:0.8413664917567104\n",
      "Adjusted R^2 value:0.8235425020664532\n",
      "Mean Squared error:2177473192.0629473\n",
      "Mean Absolute error:35110.5729420211\n",
      "\n"
     ]
    }
   ],
   "source": [
    "from sklearn.metrics import r2_score,mean_absolute_error,mean_squared_error\n",
    "\n",
    "for col in list(models):\n",
    "    model = models[col]\n",
    "    model.fit(X_scaled_train,y_train)\n",
    "    y_pred = model.predict(X_scaled_test)\n",
    "\n",
    "    score = r2_score(y_test,y_pred)\n",
    "    mse = mean_squared_error(y_test,y_pred)\n",
    "    mae = mean_absolute_error(y_test,y_pred)\n",
    "    adj_r = (1-(1-score)*((len(X_scaled_test)-1))/(len(X_scaled_test) - len(x.columns) - 1))\n",
    "\n",
    "    print(col)\n",
    "    print(f\"R^2 Value:{score}\")    \n",
    "    print(f\"Adjusted R^2 value:{adj_r}\")    \n",
    "    print(f\"Mean Squared error:{mse}\")    \n",
    "    print(f\"Mean Absolute error:{mae}\")  \n",
    "    print()  \n",
    "    "
   ]
  },
  {
   "cell_type": "markdown",
   "id": "c998acb0",
   "metadata": {},
   "source": [
    "## Hyperparameter Tuning "
   ]
  },
  {
   "cell_type": "code",
   "execution_count": null,
   "id": "1af07d53",
   "metadata": {},
   "outputs": [],
   "source": [
    "from sklearn.model_selection import GridSearchCV\n",
    "\n",
    "# cv models\n",
    "cv_models = {\n",
    "    \"Ridge\":Ridge(),\n",
    "    \"Lasso\":Lasso()\n",
    "}"
   ]
  },
  {
   "cell_type": "code",
   "execution_count": 100,
   "id": "98b2b5df",
   "metadata": {},
   "outputs": [],
   "source": [
    "# parameters\n",
    "params  = [\n",
    "    {\"Ridge\":[0.1, 1, 10, 100]}, \n",
    "    {\"Lasso\":[0.1, 1, 10, 100]}, \n",
    "]"
   ]
  },
  {
   "cell_type": "code",
   "execution_count": 101,
   "id": "d3c194fc",
   "metadata": {},
   "outputs": [
    {
     "name": "stdout",
     "output_type": "stream",
     "text": [
      "Intercept (w0): -3.922303896776963\n",
      "Coefficient (w1): 1.1206952510393664\n"
     ]
    },
    {
     "data": {
      "image/png": "[encoded data removed]",
      "text/plain": [
       "<Figure size 640x480 with 1 Axes>"
      ]
     },
     "metadata": {},
     "output_type": "display_data"
    }
   ],
   "source": [
    "import numpy as np\n",
    "import matplotlib.pyplot as plt\n",
    "from sklearn.linear_model import LogisticRegression\n",
    "\n",
    "# Data\n",
    "x = np.array([1, 2, 3, 4, 5, 6]).reshape(-1, 1)\n",
    "y = np.array([0, 0, 0, 1, 1, 1])\n",
    "\n",
    "# Step 1: Train logistic regression model\n",
    "model = LogisticRegression()\n",
    "model.fit(x, y)\n",
    "\n",
    "# Step 2: Extract parameters\n",
    "w0 = model.intercept_[0]\n",
    "w1 = model.coef_[0][0]\n",
    "\n",
    "print(\"Intercept (w0):\", w0)\n",
    "print(\"Coefficient (w1):\", w1)\n",
    "\n",
    "# Step 3: Define sigmoid function\n",
    "def sigmoid(z):\n",
    "    return 1 / (1 + np.exp(-z))\n",
    "\n",
    "# Step 4: Predict probabilities\n",
    "z = w0 + w1 * x\n",
    "p = sigmoid(z)\n",
    "\n",
    "# Step 5: Plot\n",
    "plt.scatter(x, y, color='red', label='Actual')\n",
    "plt.plot(x, p, color='blue', label='Predicted Probability')\n",
    "plt.xlabel('Study Hours')\n",
    "plt.ylabel('Probability of Pass')\n",
    "plt.legend()\n",
    "plt.title('Logistic Regression - Study Hour vs Result')\n",
    "plt.show()\n"
   ]
  }
 ],
 "metadata": {
  "kernelspec": {
   "display_name": "Python 3",
   "language": "python",
   "name": "python3"
  },
  "language_info": {
   "codemirror_mode": {
    "name": "ipython",
    "version": 3
   },
   "file_extension": ".py",
   "mimetype": "text/x-python",
   "name": "python",
   "nbconvert_exporter": "python",
   "pygments_lexer": "ipython3",
   "version": "3.12.12"
  }
 },
 "nbformat": 4,
 "nbformat_minor": 5
}
