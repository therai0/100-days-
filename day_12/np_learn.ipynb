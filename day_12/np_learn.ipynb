{
 "cells": [
  {
   "cell_type": "code",
   "execution_count": null,
   "id": "3f7e385f",
   "metadata": {},
   "outputs": [
    {
     "name": "stdout",
     "output_type": "stream",
     "text": [
      "(4,)\n",
      "[[1]\n",
      " [2]\n",
      " [3]\n",
      " [4]]\n"
     ]
    }
   ],
   "source": [
    "import numpy as np\n",
    "\n",
    "arr = np.array([1,2,3,4])\n",
    "print(arr.shape)\n",
    "# outupt: (4,)\n",
    "\n",
    "# reshaping the arr\n",
    "\"\"\"\n",
    "arr.reshape(3,3)\n",
    "print(arr)\n",
    "this code will trow the error:\n",
    "The general rule for reshaping the array is \n",
    "arr.reshape(x,y)\n",
    "x * y == len(array)\n",
    "the new row and column product is equal to total element of array\n",
    "arr  have 4 element but we try to reshape(3,3) where 3 * 3 is 9\n",
    "so it doesn't match it will throw the error\n",
    "\"\"\"\n",
    "new_arr = arr.reshape(4,1)\n",
    "print(new_arr)\n"
   ]
  },
  {
   "cell_type": "code",
   "execution_count": null,
   "id": "97985909",
   "metadata": {},
   "outputs": [
    {
     "name": "stdout",
     "output_type": "stream",
     "text": [
      "[[1 2 3]\n",
      " [4 5 6]]\n",
      "(2, 3)\n",
      "New array:[[1 2]\n",
      " [3 4]\n",
      " [5 6]]\n",
      "(3, 2)\n"
     ]
    }
   ],
   "source": [
    "# creating 2D array and reshaping it\n",
    "\n",
    "arr2 = np.array([[1,2,3],[4,5,6]])\n",
    "print(arr2)\n",
    "print(arr2.shape)\n",
    "\n",
    "# reshaping the arr2\n",
    "new_arr = arr2.reshape(3,2)\n",
    "print(f\"New array:{new_arr}\")\n",
    "print(new_arr.shape)\n"
   ]
  },
  {
   "cell_type": "code",
   "execution_count": null,
   "id": "3251829c",
   "metadata": {},
   "outputs": [
    {
     "name": "stdout",
     "output_type": "stream",
     "text": [
      "Array:[[0 1]\n",
      " [2 3]\n",
      " [4 5]]\n",
      "Dimension:2\n",
      "Length:3\n",
      "Shape:(3, 2)\n",
      "Array datatype:int64\n",
      "Number of elements in array:6\n",
      "Item size (in bytes):8\n"
     ]
    }
   ],
   "source": [
    "# another method to create the array and attributes of nupmy\n",
    "arr = np.arange(6).reshape(3,2)\n",
    "print(f\"Array:{arr}\")\n",
    "print(f\"Dimension:{arr.ndim}\")\n",
    "print(f\"Length:{len(arr)}\")\n",
    "print(f\"Shape:{arr.shape}\")\n",
    "print(f\"Array datatype:{arr.dtype}\")\n",
    "print(f\"Number of elements in array:{arr.size}\")\n",
    "print(f\"Item size (in bytes):{arr.itemsize}\")\n"
   ]
  },
  {
   "cell_type": "code",
   "execution_count": null,
   "id": "e2ad221a",
   "metadata": {},
   "outputs": [
    {
     "name": "stdout",
     "output_type": "stream",
     "text": [
      "Addition:\n",
      "[[10 12 14]\n",
      " [16 18 20]\n",
      " [22 24 26]]\n",
      "Subtraction:\n",
      "[[-10 -10 -10]\n",
      " [-10 -10 -10]\n",
      " [-10 -10 -10]]\n",
      "Division:\n",
      "[[0.         0.09090909 0.16666667]\n",
      " [0.23076923 0.28571429 0.33333333]\n",
      " [0.375      0.41176471 0.44444444]]\n",
      "Multiplication:\n",
      "[[  0  11  24]\n",
      " [ 39  56  75]\n",
      " [ 96 119 144]]\n"
     ]
    }
   ],
   "source": [
    "# Vectorized Operations : operate with each element \n",
    "arr1 = np.arange(9).reshape(3,3)\n",
    "arr2 = np.array([[10,11,12],[13,14,15],[16,17,18]])\n",
    "\n",
    "# addition \n",
    "print(f\"Addition:\\n{arr1 + arr2}\")\n",
    "# subtraction \n",
    "print(f\"Subtraction:\\n{arr1 - arr2}\")\n",
    "# Division \n",
    "print(f\"Division:\\n{arr1 / arr2}\")\n",
    "# Multiplication \n",
    "print(f\"Multiplication:\\n{arr1 * arr2}\")"
   ]
  },
  {
   "cell_type": "code",
   "execution_count": null,
   "id": "b182422b",
   "metadata": {},
   "outputs": [
    {
     "name": "stdout",
     "output_type": "stream",
     "text": [
      "Square root:[4.         6.         7.         8.         9.48683298]\n",
      "Exponential:\n",
      "[8.88611052e+06 4.31123155e+15 1.90734657e+21 6.23514908e+27\n",
      " 1.22040329e+39]\n",
      "Sin:\n",
      "[-0.28790332 -0.99177885 -0.95375265  0.92002604  0.89399666]\n"
     ]
    }
   ],
   "source": [
    "# Universal Functions  NumPy provides universal functions (ufuncs) that operate element-wise on arrays, such as sqrt, exp, sin, and log.\n",
    "\n",
    "arr = np.array([16,36,49,64,16])\n",
    "\n",
    "# square root\n",
    "print(f\"Square root:{np.sqrt(arr)}\")\n",
    "\n",
    "# exponential\n",
    "print(f\"Exponential:\\n{np.exp(arr)}\")\n"
   ]
  },
  {
   "cell_type": "code",
   "execution_count": 48,
   "id": "79ff5023",
   "metadata": {},
   "outputs": [
    {
     "name": "stdout",
     "output_type": "stream",
     "text": [
      "[2 3 4]\n",
      "Sliced:[[1 2]\n",
      " [5 6]]\n",
      "Modified:\n",
      "[[50 50 50 50]\n",
      " [50 50 50 50]\n",
      " [50 50 50 50]]\n"
     ]
    }
   ],
   "source": [
    "# Accessing and slicing array\n",
    "\n",
    "arr = np.array([1,2,3,4,5,6,7])\n",
    "print(arr[1:4])\n",
    "\n",
    "arr2 = np.array([[1,2,3,4],[5,6,7,8],[9,10,11,12]])\n",
    "\n",
    "# slicing 3x4 matrix\n",
    "# slice and get the 1,2,5,6\n",
    "print(f\"Sliced:{arr2[:2,:2]}\")\n",
    "\n",
    "# modifing\n",
    "arr2[:3,:] = 50 #it will replace the all the value with 50\n",
    "print(f\"Modified:\\n{arr2}\") "
   ]
  },
  {
   "cell_type": "code",
   "execution_count": null,
   "id": "266c5221",
   "metadata": {},
   "outputs": [
    {
     "name": "stdout",
     "output_type": "stream",
     "text": [
      "[[0. 0.]\n",
      " [0. 0.]]\n",
      "[[1. 1.]\n",
      " [1. 1.]]\n",
      "Identity matrix:\n",
      "[[1. 0. 0.]\n",
      " [0. 1. 0.]\n",
      " [0. 0. 1.]]\n",
      "Diangonal matrix:\n",
      "[[1 0 0]\n",
      " [0 2 0]\n",
      " [0 0 3]]\n",
      "Upper triangular:\n",
      "[[1 2 3]\n",
      " [0 5 6]\n",
      " [0 0 9]]\n",
      "Lower triangular:\n",
      "[[1 0 0]\n",
      " [4 5 0]\n",
      " [7 8 9]]\n"
     ]
    }
   ],
   "source": [
    "# matrixes using numpy array\n",
    "# 2x2 matrix of 0\n",
    "n_zeros = np.zeros((2,2))\n",
    "print(f\"{n_zeros}\") \n",
    "\n",
    "# 2x2 matrix of 1\n",
    "n_ones = np.ones((2,2))\n",
    "print(f\"{n_ones}\")\n",
    "\n",
    "# identity matrix\n",
    "iden_matrix = np.eye(3,3)\n",
    "print(f\"Identity matrix:\\n{iden_matrix}\")\n",
    "\n",
    "# diagonal matrix:\n",
    "dia_matrix = np.diag([1,2,3])\n",
    "print(f\"Diangonal matrix:\\n{dia_matrix}\")\n",
    "\n",
    "# upper triangular and lower triangular \n",
    "uptri = np.triu([[1, 2, 3], [4, 5, 6], [7, 8, 9]])\n",
    "print(f\"Upper triangular:\\n{uptri}\")\n",
    "\n",
    "lowtri = np.tril([[1, 2, 3], [4, 5, 6], [7, 8, 9]])\n",
    "print(f\"Lower triangular:\\n{lowtri}\")"
   ]
  }
 ],
 "metadata": {
  "kernelspec": {
   "display_name": "Python 3",
   "language": "python",
   "name": "python3"
  },
  "language_info": {
   "codemirror_mode": {
    "name": "ipython",
    "version": 3
   },
   "file_extension": ".py",
   "mimetype": "text/x-python",
   "name": "python",
   "nbconvert_exporter": "python",
   "pygments_lexer": "ipython3",
   "version": "3.12.11"
  }
 },
 "nbformat": 4,
 "nbformat_minor": 5
}
