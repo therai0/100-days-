{
 "cells": [
  {
   "cell_type": "markdown",
   "id": "a56adcb6",
   "metadata": {},
   "source": [
    "Data encoding is the process of converting categorical variables (non-numeric data) into numerical values so that machine learning algorithms can process them. Most ML models require input data to be numeric because mathematical computations on strings aren’t possible.\n"
   ]
  },
  {
   "cell_type": "code",
   "execution_count": 2,
   "id": "4ddcaae8",
   "metadata": {},
   "outputs": [
    {
     "data": {
      "text/plain": [
       "<Compressed Sparse Row sparse matrix of dtype 'float64'\n",
       "\twith 4 stored elements and shape (4, 4)>"
      ]
     },
     "execution_count": 2,
     "metadata": {},
     "output_type": "execute_result"
    }
   ],
   "source": [
    "\"\"\" Implementing One Hot Encoding in Python \"\"\"\n",
    "\n",
    "import pandas as pd \n",
    "from sklearn.preprocessing import OneHotEncoder\n",
    "\n",
    "df = pd.DataFrame({\n",
    "    'language':['nepali','hindi','english','bangali']\n",
    "})\n",
    "\n",
    "# create the object or instance of OneHotEncoder\n",
    "encoder = OneHotEncoder()\n",
    "encoded = encoder.fit_transform(df[['language']]) #fit_transform need 2D array [n_samples, n_features]\n",
    "encoded"
   ]
  },
  {
   "cell_type": "code",
   "execution_count": 3,
   "id": "6c993100",
   "metadata": {},
   "outputs": [
    {
     "data": {
      "text/plain": [
       "array([[0., 0., 0., 1.],\n",
       "       [0., 0., 1., 0.],\n",
       "       [0., 1., 0., 0.],\n",
       "       [1., 0., 0., 0.]])"
      ]
     },
     "execution_count": 3,
     "metadata": {},
     "output_type": "execute_result"
    }
   ],
   "source": [
    "# it produce the output in array\n",
    "# let's talk about what does it means \n",
    "# \"\"\"\n",
    "# ['nepali','hindi','english']\n",
    "# first they are short in alphabetically\n",
    "# ['english','hindi','nepali']\n",
    "# now it show in this order\n",
    "# when use decode it using OneHotEncoder\n",
    "# english:[1,0,0]\n",
    "# hindi:[0,1,0]\n",
    "# nepali:[0,0,1] \n",
    "# this means where value is present that value will be 1 and other will be 0\n",
    "# \"\"\"\n",
    "encoded.toarray() "
   ]
  },
  {
   "cell_type": "code",
   "execution_count": 4,
   "id": "5fe2bddb",
   "metadata": {},
   "outputs": [
    {
     "data": {
      "text/plain": [
       "array(['language_bangali', 'language_english', 'language_hindi',\n",
       "       'language_nepali'], dtype=object)"
      ]
     },
     "execution_count": 4,
     "metadata": {},
     "output_type": "execute_result"
    }
   ],
   "source": [
    "encoder.get_feature_names_out() "
   ]
  },
  {
   "cell_type": "code",
   "execution_count": 5,
   "id": "00e704b0",
   "metadata": {},
   "outputs": [
    {
     "data": {
      "text/html": [
       "<div>\n",
       "<style scoped>\n",
       "    .dataframe tbody tr th:only-of-type {\n",
       "        vertical-align: middle;\n",
       "    }\n",
       "\n",
       "    .dataframe tbody tr th {\n",
       "        vertical-align: top;\n",
       "    }\n",
       "\n",
       "    .dataframe thead th {\n",
       "        text-align: right;\n",
       "    }\n",
       "</style>\n",
       "<table border=\"1\" class=\"dataframe\">\n",
       "  <thead>\n",
       "    <tr style=\"text-align: right;\">\n",
       "      <th></th>\n",
       "      <th>language_bangali</th>\n",
       "      <th>language_english</th>\n",
       "      <th>language_hindi</th>\n",
       "      <th>language_nepali</th>\n",
       "    </tr>\n",
       "  </thead>\n",
       "  <tbody>\n",
       "    <tr>\n",
       "      <th>0</th>\n",
       "      <td>0.0</td>\n",
       "      <td>0.0</td>\n",
       "      <td>0.0</td>\n",
       "      <td>1.0</td>\n",
       "    </tr>\n",
       "    <tr>\n",
       "      <th>1</th>\n",
       "      <td>0.0</td>\n",
       "      <td>0.0</td>\n",
       "      <td>1.0</td>\n",
       "      <td>0.0</td>\n",
       "    </tr>\n",
       "    <tr>\n",
       "      <th>2</th>\n",
       "      <td>0.0</td>\n",
       "      <td>1.0</td>\n",
       "      <td>0.0</td>\n",
       "      <td>0.0</td>\n",
       "    </tr>\n",
       "    <tr>\n",
       "      <th>3</th>\n",
       "      <td>1.0</td>\n",
       "      <td>0.0</td>\n",
       "      <td>0.0</td>\n",
       "      <td>0.0</td>\n",
       "    </tr>\n",
       "  </tbody>\n",
       "</table>\n",
       "</div>"
      ],
      "text/plain": [
       "   language_bangali  language_english  language_hindi  language_nepali\n",
       "0               0.0               0.0             0.0              1.0\n",
       "1               0.0               0.0             1.0              0.0\n",
       "2               0.0               1.0             0.0              0.0\n",
       "3               1.0               0.0             0.0              0.0"
      ]
     },
     "execution_count": 5,
     "metadata": {},
     "output_type": "execute_result"
    }
   ],
   "source": [
    "# let's see the this data in dataframe\n",
    "import pandas as pd \n",
    "en_df = pd.DataFrame(encoded.toarray(),columns=encoder.get_feature_names_out())\n",
    "en_df"
   ]
  },
  {
   "cell_type": "code",
   "execution_count": 6,
   "id": "9e1ebe24",
   "metadata": {},
   "outputs": [
    {
     "data": {
      "text/html": [
       "<div>\n",
       "<style scoped>\n",
       "    .dataframe tbody tr th:only-of-type {\n",
       "        vertical-align: middle;\n",
       "    }\n",
       "\n",
       "    .dataframe tbody tr th {\n",
       "        vertical-align: top;\n",
       "    }\n",
       "\n",
       "    .dataframe thead th {\n",
       "        text-align: right;\n",
       "    }\n",
       "</style>\n",
       "<table border=\"1\" class=\"dataframe\">\n",
       "  <thead>\n",
       "    <tr style=\"text-align: right;\">\n",
       "      <th></th>\n",
       "      <th>Bhaskr</th>\n",
       "      <th>Aayush</th>\n",
       "      <th>Manish</th>\n",
       "      <th>Shiva</th>\n",
       "    </tr>\n",
       "  </thead>\n",
       "  <tbody>\n",
       "    <tr>\n",
       "      <th>0</th>\n",
       "      <td>1</td>\n",
       "      <td>2</td>\n",
       "      <td>3</td>\n",
       "      <td>4</td>\n",
       "    </tr>\n",
       "    <tr>\n",
       "      <th>1</th>\n",
       "      <td>11</td>\n",
       "      <td>12</td>\n",
       "      <td>13</td>\n",
       "      <td>14</td>\n",
       "    </tr>\n",
       "  </tbody>\n",
       "</table>\n",
       "</div>"
      ],
      "text/plain": [
       "   Bhaskr  Aayush  Manish  Shiva\n",
       "0       1       2       3      4\n",
       "1      11      12      13     14"
      ]
     },
     "execution_count": 6,
     "metadata": {},
     "output_type": "execute_result"
    }
   ],
   "source": [
    "# this is how column and row we can combine in pandas\n",
    "x = [[1,2,3,4],[11,12,13,14]]\n",
    "student = ['Bhaskr','Aayush','Manish','Shiva']\n",
    "d = pd.DataFrame(x,columns=student)\n",
    "d"
   ]
  },
  {
   "cell_type": "code",
   "execution_count": 7,
   "id": "a3ce72bb",
   "metadata": {},
   "outputs": [
    {
     "data": {
      "text/html": [
       "<div>\n",
       "<style scoped>\n",
       "    .dataframe tbody tr th:only-of-type {\n",
       "        vertical-align: middle;\n",
       "    }\n",
       "\n",
       "    .dataframe tbody tr th {\n",
       "        vertical-align: top;\n",
       "    }\n",
       "\n",
       "    .dataframe thead th {\n",
       "        text-align: right;\n",
       "    }\n",
       "</style>\n",
       "<table border=\"1\" class=\"dataframe\">\n",
       "  <thead>\n",
       "    <tr style=\"text-align: right;\">\n",
       "      <th></th>\n",
       "      <th>language</th>\n",
       "      <th>language_bangali</th>\n",
       "      <th>language_english</th>\n",
       "      <th>language_hindi</th>\n",
       "      <th>language_nepali</th>\n",
       "    </tr>\n",
       "  </thead>\n",
       "  <tbody>\n",
       "    <tr>\n",
       "      <th>0</th>\n",
       "      <td>nepali</td>\n",
       "      <td>0.0</td>\n",
       "      <td>0.0</td>\n",
       "      <td>0.0</td>\n",
       "      <td>1.0</td>\n",
       "    </tr>\n",
       "    <tr>\n",
       "      <th>1</th>\n",
       "      <td>hindi</td>\n",
       "      <td>0.0</td>\n",
       "      <td>0.0</td>\n",
       "      <td>1.0</td>\n",
       "      <td>0.0</td>\n",
       "    </tr>\n",
       "    <tr>\n",
       "      <th>2</th>\n",
       "      <td>english</td>\n",
       "      <td>0.0</td>\n",
       "      <td>1.0</td>\n",
       "      <td>0.0</td>\n",
       "      <td>0.0</td>\n",
       "    </tr>\n",
       "    <tr>\n",
       "      <th>3</th>\n",
       "      <td>bangali</td>\n",
       "      <td>1.0</td>\n",
       "      <td>0.0</td>\n",
       "      <td>0.0</td>\n",
       "      <td>0.0</td>\n",
       "    </tr>\n",
       "  </tbody>\n",
       "</table>\n",
       "</div>"
      ],
      "text/plain": [
       "  language  language_bangali  language_english  language_hindi  \\\n",
       "0   nepali               0.0               0.0             0.0   \n",
       "1    hindi               0.0               0.0             1.0   \n",
       "2  english               0.0               1.0             0.0   \n",
       "3  bangali               1.0               0.0             0.0   \n",
       "\n",
       "   language_nepali  \n",
       "0              1.0  \n",
       "1              0.0  \n",
       "2              0.0  \n",
       "3              0.0  "
      ]
     },
     "execution_count": 7,
     "metadata": {},
     "output_type": "execute_result"
    }
   ],
   "source": [
    "# now concat the en_df and df\n",
    "new_df = pd.concat([df,en_df],axis=1)\n",
    "new_df"
   ]
  },
  {
   "cell_type": "code",
   "execution_count": null,
   "id": "2e0605cc",
   "metadata": {},
   "outputs": [],
   "source": [
    "# sometime we need to add the new data \n",
    "# so while adding the new data is should be from this four language ['nepali','hindi','english','bangali']"
   ]
  },
  {
   "cell_type": "code",
   "execution_count": null,
   "id": "4d58ef6c",
   "metadata": {},
   "outputs": [],
   "source": [
    "# Label encoding involves assigning a unique numerical label to each category in the variable.\n",
    "from sklearn.preprocessing import LabelEncoder\n",
    "# create the object of LabelEncoder\n",
    "lb_encoder = LabelEncoder()\n",
    "df = pd.DataFrame({\n",
    "    'language':['nepali','hindi','english','bangali']\n",
    "})"
   ]
  },
  {
   "cell_type": "code",
   "execution_count": null,
   "id": "891b3c32",
   "metadata": {},
   "outputs": [
    {
     "name": "stderr",
     "output_type": "stream",
     "text": [
      "/Volumes/Demo/100_days/day_44/env/lib/python3.12/site-packages/sklearn/preprocessing/_label.py:110: DataConversionWarning: A column-vector y was passed when a 1d array was expected. Please change the shape of y to (n_samples, ), for example using ravel().\n",
      "  y = column_or_1d(y, warn=True)\n"
     ]
    },
    {
     "data": {
      "text/plain": [
       "array([3, 2, 1, 0])"
      ]
     },
     "execution_count": 14,
     "metadata": {},
     "output_type": "execute_result"
    }
   ],
   "source": [
    "lb_encoded = lb_encoder.fit_transform(df[['language']])\n",
    "lb_encoded# it assign the unique value to each value "
   ]
  },
  {
   "cell_type": "code",
   "execution_count": 15,
   "id": "1097efde",
   "metadata": {},
   "outputs": [
    {
     "data": {
      "text/plain": [
       "array([[0.],\n",
       "       [1.],\n",
       "       [2.]])"
      ]
     },
     "execution_count": 15,
     "metadata": {},
     "output_type": "execute_result"
    }
   ],
   "source": [
    "from sklearn.preprocessing import OrdinalEncoder\n",
    "orl_encoder = OrdinalEncoder()\n",
    "df = pd.DataFrame({\n",
    "    'rank':['first','second','third']\n",
    "})\n",
    "orl_encoded = orl_encoder.fit_transform(df[['rank']])\n",
    "orl_encoded"
   ]
  },
  {
   "cell_type": "code",
   "execution_count": 19,
   "id": "13cf480b",
   "metadata": {},
   "outputs": [
    {
     "name": "stderr",
     "output_type": "stream",
     "text": [
      "/Volumes/Demo/100_days/day_44/env/lib/python3.12/site-packages/sklearn/utils/validation.py:2749: UserWarning: X does not have valid feature names, but OrdinalEncoder was fitted with feature names\n",
      "  warnings.warn(\n"
     ]
    },
    {
     "data": {
      "text/plain": [
       "array([[0.]])"
      ]
     },
     "execution_count": 19,
     "metadata": {},
     "output_type": "execute_result"
    }
   ],
   "source": [
    "orl_encoder.transform([['first']])"
   ]
  }
 ],
 "metadata": {
  "kernelspec": {
   "display_name": "env",
   "language": "python",
   "name": "python3"
  },
  "language_info": {
   "codemirror_mode": {
    "name": "ipython",
    "version": 3
   },
   "file_extension": ".py",
   "mimetype": "text/x-python",
   "name": "python",
   "nbconvert_exporter": "python",
   "pygments_lexer": "ipython3",
   "version": "3.12.11"
  }
 },
 "nbformat": 4,
 "nbformat_minor": 5
}
