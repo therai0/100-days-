{
 "cells": [
  {
   "cell_type": "code",
   "execution_count": 13,
   "id": "aff3001b",
   "metadata": {},
   "outputs": [
    {
     "name": "stdout",
     "output_type": "stream",
     "text": [
      "<class 'str'>\n"
     ]
    },
    {
     "data": {
      "text/html": [
       "<div>\n",
       "<style scoped>\n",
       "    .dataframe tbody tr th:only-of-type {\n",
       "        vertical-align: middle;\n",
       "    }\n",
       "\n",
       "    .dataframe tbody tr th {\n",
       "        vertical-align: top;\n",
       "    }\n",
       "\n",
       "    .dataframe thead th {\n",
       "        text-align: right;\n",
       "    }\n",
       "</style>\n",
       "<table border=\"1\" class=\"dataframe\">\n",
       "  <thead>\n",
       "    <tr style=\"text-align: right;\">\n",
       "      <th></th>\n",
       "      <th>albumId</th>\n",
       "      <th>id</th>\n",
       "      <th>title</th>\n",
       "      <th>url</th>\n",
       "      <th>thumbnailUrl</th>\n",
       "    </tr>\n",
       "  </thead>\n",
       "  <tbody>\n",
       "    <tr>\n",
       "      <th>0</th>\n",
       "      <td>1</td>\n",
       "      <td>1</td>\n",
       "      <td>accusamus beatae ad facilis cum similique qui ...</td>\n",
       "      <td>https://via.placeholder.com/600/92c952</td>\n",
       "      <td>https://via.placeholder.com/150/92c952</td>\n",
       "    </tr>\n",
       "    <tr>\n",
       "      <th>1</th>\n",
       "      <td>1</td>\n",
       "      <td>2</td>\n",
       "      <td>reprehenderit est deserunt velit ipsam</td>\n",
       "      <td>https://via.placeholder.com/600/771796</td>\n",
       "      <td>https://via.placeholder.com/150/771796</td>\n",
       "    </tr>\n",
       "  </tbody>\n",
       "</table>\n",
       "</div>"
      ],
      "text/plain": [
       "   albumId  id                                              title  \\\n",
       "0        1   1  accusamus beatae ad facilis cum similique qui ...   \n",
       "1        1   2             reprehenderit est deserunt velit ipsam   \n",
       "\n",
       "                                      url  \\\n",
       "0  https://via.placeholder.com/600/92c952   \n",
       "1  https://via.placeholder.com/600/771796   \n",
       "\n",
       "                             thumbnailUrl  \n",
       "0  https://via.placeholder.com/150/92c952  \n",
       "1  https://via.placeholder.com/150/771796  "
      ]
     },
     "execution_count": 13,
     "metadata": {},
     "output_type": "execute_result"
    }
   ],
   "source": [
    "# Reading Data From Various Data Source Using Pandas\n",
    "\n",
    "import pandas as pd\n",
    "from io import StringIO\n",
    "data = \"\"\"\n",
    "{\n",
    "  \"name\": \"category1\",\n",
    "  \"subCategories\": [\n",
    "    {\n",
    "      \"name\": \"subCat1\",\n",
    "      \"subCategories\": [\n",
    "        {\n",
    "          \"name\": \"subCat1_1\",\n",
    "          \"subCategories\": [],\n",
    "          \"tags\": [\n",
    "            \"tag1\",\n",
    "            \"tag2\",\n",
    "            \"tag3\"\n",
    "          ]\n",
    "        }\n",
    "      ],\n",
    "      \"tags\": [\n",
    "        \"tag1\",\n",
    "        \"tag2\",\n",
    "        \"tag3\"\n",
    "      ]\n",
    "    },{\n",
    "      \"name\": \"subCat2\",\n",
    "      \"subCategories\": [\n",
    "        {\n",
    "          \"name\": \"subCat1_1\",\n",
    "          \"subCategories\": [\n",
    "            {\n",
    "              \"name\": \"subCat1_1\",\n",
    "              \"subCategories\": [],\n",
    "              \"tags\": [\n",
    "                \"tag1\",\n",
    "                \"tag2\",\n",
    "                \"tag3\"\n",
    "              ]\n",
    "            }\n",
    "          ],\n",
    "          \"tags\": [\n",
    "            \"tag1\",\n",
    "            \"tag2\",\n",
    "            \"tag3\"\n",
    "          ]\n",
    "        }\n",
    "      ],\n",
    "      \"tags\": [\n",
    "        \"tag1\",\n",
    "        \"tag2\",\n",
    "        \"tag3\"\n",
    "      ]\n",
    "    },{\n",
    "      \"name\": \"subCat3\",\n",
    "      \"subCategories\": [],\n",
    "      \"tags\": [\n",
    "        \"tag1\",\n",
    "        \"tag2\",\n",
    "        \"tag3\"\n",
    "      ]\n",
    "    }\n",
    "  ],\n",
    "  \"tags\": null\n",
    "}\n",
    "\"\"\"\n",
    "\n",
    "data_d = '''\n",
    "[{\n",
    "    \"albumId\": 1,\n",
    "    \"id\": 1,\n",
    "    \"title\": \"accusamus beatae ad facilis cum similique qui sunt\",\n",
    "    \"url\": \"https://via.placeholder.com/600/92c952\",\n",
    "    \"thumbnailUrl\": \"https://via.placeholder.com/150/92c952\"\n",
    "  },\n",
    "  {\n",
    "    \"albumId\": 1,\n",
    "    \"id\": 2,\n",
    "    \"title\": \"reprehenderit est deserunt velit ipsam\",\n",
    "    \"url\": \"https://via.placeholder.com/600/771796\",\n",
    "    \"thumbnailUrl\": \"https://via.placeholder.com/150/771796\"\n",
    "  }]\n",
    "'''\n",
    "print(type(data_d)) # string\n",
    "data_json = StringIO(data_d) # StringIO to simulate a file-like object.\n",
    "\n",
    "df = pd.read_json(data_json)\n",
    "\n",
    "df\n",
    "# basically here we read the json object as a pandas dataframe\n"
   ]
  },
  {
   "cell_type": "code",
   "execution_count": 17,
   "id": "30738057",
   "metadata": {},
   "outputs": [
    {
     "data": {
      "text/plain": [
       "'{\"albumId\":{\"0\":1,\"1\":1},\"id\":{\"0\":1,\"1\":2},\"title\":{\"0\":\"accusamus beatae ad facilis cum similique qui sunt\",\"1\":\"reprehenderit est deserunt velit ipsam\"},\"url\":{\"0\":\"https:\\\\/\\\\/via.placeholder.com\\\\/600\\\\/92c952\",\"1\":\"https:\\\\/\\\\/via.placeholder.com\\\\/600\\\\/771796\"},\"thumbnailUrl\":{\"0\":\"https:\\\\/\\\\/via.placeholder.com\\\\/150\\\\/92c952\",\"1\":\"https:\\\\/\\\\/via.placeholder.com\\\\/150\\\\/771796\"}}'"
      ]
     },
     "execution_count": 17,
     "metadata": {},
     "output_type": "execute_result"
    }
   ],
   "source": [
    "# converting back to json \n",
    "\n",
    "json_df = df.to_json()\n",
    "\n",
    "json_df"
   ]
  },
  {
   "cell_type": "code",
   "execution_count": 19,
   "id": "7f2df89f",
   "metadata": {},
   "outputs": [
    {
     "data": {
      "text/plain": [
       "'{\"0\":{\"albumId\":1,\"id\":1,\"title\":\"accusamus beatae ad facilis cum similique qui sunt\",\"url\":\"https:\\\\/\\\\/via.placeholder.com\\\\/600\\\\/92c952\",\"thumbnailUrl\":\"https:\\\\/\\\\/via.placeholder.com\\\\/150\\\\/92c952\"},\"1\":{\"albumId\":1,\"id\":2,\"title\":\"reprehenderit est deserunt velit ipsam\",\"url\":\"https:\\\\/\\\\/via.placeholder.com\\\\/600\\\\/771796\",\"thumbnailUrl\":\"https:\\\\/\\\\/via.placeholder.com\\\\/150\\\\/771796\"}}'"
      ]
     },
     "execution_count": 19,
     "metadata": {},
     "output_type": "execute_result"
    }
   ],
   "source": [
    "json_d = df.to_json(orient=\"index\")\n",
    "json_d"
   ]
  },
  {
   "cell_type": "code",
   "execution_count": 22,
   "id": "234ee81b",
   "metadata": {},
   "outputs": [
    {
     "data": {
      "text/plain": [
       "'[{\"albumId\":1,\"id\":1,\"title\":\"accusamus beatae ad facilis cum similique qui sunt\",\"url\":\"https:\\\\/\\\\/via.placeholder.com\\\\/600\\\\/92c952\",\"thumbnailUrl\":\"https:\\\\/\\\\/via.placeholder.com\\\\/150\\\\/92c952\"},{\"albumId\":1,\"id\":2,\"title\":\"reprehenderit est deserunt velit ipsam\",\"url\":\"https:\\\\/\\\\/via.placeholder.com\\\\/600\\\\/771796\",\"thumbnailUrl\":\"https:\\\\/\\\\/via.placeholder.com\\\\/150\\\\/771796\"}]'"
      ]
     },
     "execution_count": 22,
     "metadata": {},
     "output_type": "execute_result"
    }
   ],
   "source": [
    "json_i = df.to_json(orient=\"records\")\n",
    "json_i"
   ]
  }
 ],
 "metadata": {
  "kernelspec": {
   "display_name": "Python 3",
   "language": "python",
   "name": "python3"
  },
  "language_info": {
   "codemirror_mode": {
    "name": "ipython",
    "version": 3
   },
   "file_extension": ".py",
   "mimetype": "text/x-python",
   "name": "python",
   "nbconvert_exporter": "python",
   "pygments_lexer": "ipython3",
   "version": "3.12.11"
  }
 },
 "nbformat": 4,
 "nbformat_minor": 5
}
