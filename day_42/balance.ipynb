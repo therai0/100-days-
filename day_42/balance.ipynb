{
 "cells": [
  {
   "cell_type": "code",
   "execution_count": 38,
   "id": "ff2d1ef5",
   "metadata": {},
   "outputs": [],
   "source": [
    "# balancing the data using upsampling \n",
    "import numpy as np\n",
    "import pandas as pd \n",
    "import matplotlib.pyplot as plt \n",
    "\n",
    "np.random.seed(1000)\n",
    "# number of sampels \n",
    "samples = 4000\n",
    "class_odd_ratio = 0.7\n",
    "number_odd = int(class_odd_ratio*samples)\n",
    "number_even = samples - number_odd\n",
    "\n",
    "# print(number_odd,number_even)"
   ]
  },
  {
   "cell_type": "code",
   "execution_count": 39,
   "id": "b6eeabb9",
   "metadata": {},
   "outputs": [],
   "source": [
    "# features for odd\n",
    "odd_features1 = np.random.normal(loc=0,scale=1,size=number_odd)\n",
    "odd_features2 = np.random.normal(loc=0,scale=1,size=number_odd)\n",
    "\n",
    "# features for even\n",
    "even_features1 = np.random.normal(loc=0,scale=1,size=number_even)\n",
    "even_features2 = np.random.normal(loc=0,scale=1,size=number_even)\n",
    "\n"
   ]
  },
  {
   "cell_type": "code",
   "execution_count": 40,
   "id": "f67697c6",
   "metadata": {},
   "outputs": [],
   "source": [
    "# odd dataframe\n",
    "odd_df = pd.DataFrame({\n",
    "    'feature1':odd_features1,\n",
    "    'feature2':odd_features2,\n",
    "    'target':0\n",
    "})\n",
    "# even dataframe\n",
    "even_df = pd.DataFrame({\n",
    "    'feature1':even_features1,\n",
    "    'feature2':even_features2,\n",
    "    'target':1\n",
    "})\n",
    "\n",
    "org_df = pd.concat([odd_df,even_df],ignore_index=True)\n",
    "# it will concat and create the new dataframe also ignore the index"
   ]
  },
  {
   "cell_type": "code",
   "execution_count": 41,
   "id": "8cb7a036",
   "metadata": {},
   "outputs": [
    {
     "data": {
      "text/plain": [
       "target\n",
       "0    2800\n",
       "1    1200\n",
       "Name: count, dtype: int64"
      ]
     },
     "execution_count": 41,
     "metadata": {},
     "output_type": "execute_result"
    }
   ],
   "source": [
    "org_df['target'].value_counts()\n",
    "# we can see that datas are unbalance so let's balance the data"
   ]
  },
  {
   "cell_type": "code",
   "execution_count": 42,
   "id": "ceaf4723",
   "metadata": {},
   "outputs": [],
   "source": [
    "from sklearn.utils import resample\n",
    "# upsampling\n",
    "# increase the number of 1s to 2800  and make it balance\n",
    "\n",
    "# seprate the majority and minority\n",
    "n_majority = org_df[org_df['target']== 0]\n",
    "n_minority = org_df[org_df['target']== 1]\n",
    "\n",
    "\n",
    "# upsampled \n",
    "n_minority_upsampled = resample(\n",
    "    n_minority,\n",
    "replace=True,\n",
    "n_samples=len(n_majority),\n",
    "random_state=100\n",
    ")"
   ]
  },
  {
   "cell_type": "code",
   "execution_count": 50,
   "id": "f0dc414d",
   "metadata": {},
   "outputs": [
    {
     "data": {
      "text/plain": [
       "target\n",
       "0    2800\n",
       "1    2800\n",
       "Name: count, dtype: int64"
      ]
     },
     "execution_count": 50,
     "metadata": {},
     "output_type": "execute_result"
    }
   ],
   "source": [
    "new_df = pd.concat([n_majority,n_minority_upsampled],ignore_index=True,)\n",
    "new_df['target'].value_counts()\n",
    "# now the both value are same"
   ]
  },
  {
   "cell_type": "code",
   "execution_count": null,
   "id": "8babfa33",
   "metadata": {},
   "outputs": [],
   "source": []
  }
 ],
 "metadata": {
  "kernelspec": {
   "display_name": "Python 3",
   "language": "python",
   "name": "python3"
  },
  "language_info": {
   "codemirror_mode": {
    "name": "ipython",
    "version": 3
   },
   "file_extension": ".py",
   "mimetype": "text/x-python",
   "name": "python",
   "nbconvert_exporter": "python",
   "pygments_lexer": "ipython3",
   "version": "3.12.11"
  }
 },
 "nbformat": 4,
 "nbformat_minor": 5
}
