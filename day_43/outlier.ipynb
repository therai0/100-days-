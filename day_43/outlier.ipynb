{
 "cells": [
  {
   "cell_type": "code",
   "execution_count": null,
   "id": "c8a355dc",
   "metadata": {},
   "outputs": [],
   "source": [
    "# An outlier is a data point that is significantly different from the majority of the data. It lies far away from the rest of the observations in a dataset. Outliers can either be unusually high or unusually low compared to other values."
   ]
  },
  {
   "cell_type": "code",
   "execution_count": 18,
   "id": "2140cc1f",
   "metadata": {},
   "outputs": [
    {
     "data": {
      "text/plain": [
       "'2.0.1'"
      ]
     },
     "execution_count": 18,
     "metadata": {},
     "output_type": "execute_result"
    }
   ],
   "source": [
    "import numpy as np \n",
    "np.__version__"
   ]
  },
  {
   "cell_type": "code",
   "execution_count": 19,
   "id": "38272a9b",
   "metadata": {},
   "outputs": [],
   "source": [
    "# Five number summary: minimum,First Quartile / 25th percentile, median,Third Quartile / 75th percentile\n",
    "# maximum0,\n",
    "\n",
    "price = [50,54,45,56,67,65,56,75,87,56,70,80,66,35]\n",
    "\n",
    "minimum,q1,median,q3,maximum = np.quantile(price,[0,0.25,0.5,0.75,1.0])"
   ]
  },
  {
   "cell_type": "code",
   "execution_count": 20,
   "id": "a64635b5",
   "metadata": {},
   "outputs": [
    {
     "name": "stdout",
     "output_type": "stream",
     "text": [
      "35.0\n",
      "54.5\n",
      "60.5\n",
      "69.25\n",
      "87.0\n"
     ]
    }
   ],
   "source": [
    "print(float(minimum))\n",
    "print(float(q1))\n",
    "print(float(median))\n",
    "print(float(q3))\n",
    "print(float(maximum))"
   ]
  },
  {
   "cell_type": "code",
   "execution_count": 21,
   "id": "d6d29177",
   "metadata": {},
   "outputs": [
    {
     "name": "stdout",
     "output_type": "stream",
     "text": [
      "14.75\n"
     ]
    }
   ],
   "source": [
    "# Interquartile Range.\n",
    "IQR = q3-q1\n",
    "print(IQR)\n",
    "# t measures the spread (variability) of the middle 50% of a dataset."
   ]
  },
  {
   "cell_type": "code",
   "execution_count": 22,
   "id": "1b27f2cf",
   "metadata": {},
   "outputs": [
    {
     "name": "stdout",
     "output_type": "stream",
     "text": [
      "32.375 91.375\n"
     ]
    }
   ],
   "source": [
    "# Lower Fence: The lowest boundary beyond which a data point is considered a low outlier.\n",
    "# Upper Fence: The highest boundary beyond which a data point is considered a high outlier.\n",
    "\n",
    "lower_fence = q1-1.5*IQR\n",
    "higher_fence = q3+1.5*IQR\n",
    "\n",
    "print(lower_fence,higher_fence)"
   ]
  },
  {
   "cell_type": "code",
   "execution_count": 23,
   "id": "261edee4",
   "metadata": {},
   "outputs": [
    {
     "data": {
      "text/plain": [
       "<Axes: >"
      ]
     },
     "execution_count": 23,
     "metadata": {},
     "output_type": "execute_result"
    },
    {
     "data": {
      "image/png": "[encoded data removed]",
      "text/plain": [
       "<Figure size 640x480 with 1 Axes>"
      ]
     },
     "metadata": {},
     "output_type": "display_data"
    }
   ],
   "source": [
    "# A boxplot (also called a whisker plot) is a graphical representation of the five-number summary (Minimum, Q1, Median, Q3, Maximum) with outliers shown as separate points.\n",
    "import seaborn as sns \n",
    "sns.boxplot(price)"
   ]
  },
  {
   "cell_type": "code",
   "execution_count": 26,
   "id": "06b54c14",
   "metadata": {},
   "outputs": [
    {
     "data": {
      "text/plain": [
       "<Axes: >"
      ]
     },
     "execution_count": 26,
     "metadata": {},
     "output_type": "execute_result"
    },
    {
     "data": {
      "image/png": "[encoded data removed]",
      "text/plain": [
       "<Figure size 640x480 with 1 Axes>"
      ]
     },
     "metadata": {},
     "output_type": "display_data"
    }
   ],
   "source": [
    "# let's add some outliers \n",
    "price = [20,50,54,45,56,67,65,56,75,87,56,70,80,66,35,80,150]\n",
    "sns.boxplot(price)"
   ]
  },
  {
   "cell_type": "code",
   "execution_count": null,
   "id": "fe312591",
   "metadata": {},
   "outputs": [],
   "source": [
    "# so there is some dot there are the outliers"
   ]
  }
 ],
 "metadata": {
  "kernelspec": {
   "display_name": "Python 3",
   "language": "python",
   "name": "python3"
  },
  "language_info": {
   "codemirror_mode": {
    "name": "ipython",
    "version": 3
   },
   "file_extension": ".py",
   "mimetype": "text/x-python",
   "name": "python",
   "nbconvert_exporter": "python",
   "pygments_lexer": "ipython3",
   "version": "3.12.11"
  }
 },
 "nbformat": 4,
 "nbformat_minor": 5
}
