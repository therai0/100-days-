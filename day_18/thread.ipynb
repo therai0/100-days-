{
 "cells": [
  {
   "cell_type": "code",
   "execution_count": null,
   "id": "ca2f432c",
   "metadata": {},
   "outputs": [
    {
     "name": "stdout",
     "output_type": "stream",
     "text": [
      "Print one\n",
      "Print one\n",
      "Print one\n",
      "Print one\n",
      "Print one\n",
      "Print Two\n",
      "Print Two\n",
      "Print Two\n",
      "Print Two\n",
      "Print Two\n"
     ]
    }
   ],
   "source": [
    "# implementing Multithreading with python\n",
    "\n",
    "# let write the simple code and understand how the python code works without threading\n",
    "# function one\n",
    "def print_one():\n",
    "    for i in range(5):\n",
    "        print(\"Print one\")\n",
    "\n",
    "# function two\n",
    "def print_two():\n",
    "    for i in range(5):\n",
    "        print(\"Print Two\")\n",
    "\n",
    "# now calling the function\n",
    "print_one()\n",
    "print_two()\n",
    "\n",
    "# when code is excuted first print_one will be called and after compeleting print_two() will be called\n",
    "# print_two() function will wait until the print_one() finction finish  execution"
   ]
  },
  {
   "cell_type": "code",
   "execution_count": null,
   "id": "70757486",
   "metadata": {},
   "outputs": [
    {
     "name": "stdout",
     "output_type": "stream",
     "text": [
      "Print 0\n",
      "Print 1\n",
      "Print 2\n",
      "Print 3\n",
      "Print 4\n",
      "Print a\n",
      "Print b\n",
      "Print c\n",
      "Print d\n",
      "Print e\n"
     ]
    },
    {
     "data": {
      "text/plain": [
       "10.040355205535889"
      ]
     },
     "execution_count": 7,
     "metadata": {},
     "output_type": "execute_result"
    }
   ],
   "source": [
    "# let's write more code to understand about the why we need multithreads in program\n",
    "\n",
    "import time \n",
    "\n",
    "# function one\n",
    "def print_num():\n",
    "    for i in range(5):\n",
    "        time.sleep(1)\n",
    "        print(f\"Print {i}\")\n",
    "\n",
    "# function two\n",
    "def print_char():\n",
    "    for i in \"abcde\":\n",
    "        time.sleep(1)\n",
    "        print(f\"Print {i}\")\n",
    "\n",
    "# now calling the function\n",
    "start_time = time.time()\n",
    "print_num()\n",
    "print_char()\n",
    "\n",
    "end_time = time.time()- start_time\n",
    "end_time #total time require to execut this code\n",
    "\n",
    "# total it took  10.040355205535889 sec to complete s\n",
    "# time.sleep() we us this method here (in real world there may be any other i/o operation) "
   ]
  },
  {
   "cell_type": "code",
   "execution_count": null,
   "id": "3936049e",
   "metadata": {},
   "outputs": [
    {
     "name": "stdout",
     "output_type": "stream",
     "text": [
      "Print 0Print a\n",
      "\n",
      "Print bPrint 1\n",
      "\n",
      "Print 2Print c\n",
      "\n",
      "Print dPrint 3\n",
      "\n",
      "Print 4Print e\n",
      "\n"
     ]
    },
    {
     "data": {
      "text/plain": [
       "5.022384881973267"
      ]
     },
     "execution_count": 10,
     "metadata": {},
     "output_type": "execute_result"
    }
   ],
   "source": [
    "# now implement the multithreading in python\n",
    "import time \n",
    "import threading\n",
    "# function one\n",
    "def print_num():\n",
    "    for i in range(5):\n",
    "        time.sleep(1)\n",
    "        print(f\"Print {i}\")\n",
    "# function two\n",
    "def print_char():\n",
    "    for i in \"abcde\":\n",
    "        time.sleep(1)\n",
    "        print(f\"Print {i}\")\n",
    "\n",
    "# creating the two threads for two function we want to execute this two function as different thread\n",
    "thread_one = threading.Thread(target=print_num)\n",
    "thread_two = threading.Thread(target=print_char)\n",
    "\n",
    "start_time = time.time()\n",
    "# starting the both threads\n",
    "thread_one.start()\n",
    "thread_two.start()\n",
    "# We use the join() method to wait for both threads to finish before proceeding.\n",
    "thread_one.join()\n",
    "thread_two.join()\n",
    "end_time = time.time()- start_time\n",
    "end_time #total time require to execut this code\n",
    "\n",
    "# the total time taken by this two function is 5.036848068237305\n",
    "# as compare to last program without thread almost it only took half time to complete"
   ]
  },
  {
   "cell_type": "code",
   "execution_count": null,
   "id": "35272108",
   "metadata": {},
   "outputs": [],
   "source": [
    "\n",
    "\"\"\" \n",
    "When to Use Multithreading ?\n",
    "\n",
    "I/O Bound Tasks: Tasks that spend more time waiting for I/O operations, such as file operations or network requests.\n",
    "\n",
    "\n",
    "Concurrent Execution: When you want to improve the throughput of your application by performing multiple operations concurrently.\n",
    "\n",
    "\"\"\""
   ]
  },
  {
   "cell_type": "code",
   "execution_count": null,
   "id": "4277594b",
   "metadata": {},
   "outputs": [],
   "source": []
  }
 ],
 "metadata": {
  "kernelspec": {
   "display_name": "Python 3",
   "language": "python",
   "name": "python3"
  },
  "language_info": {
   "codemirror_mode": {
    "name": "ipython",
    "version": 3
   },
   "file_extension": ".py",
   "mimetype": "text/x-python",
   "name": "python",
   "nbconvert_exporter": "python",
   "pygments_lexer": "ipython3",
   "version": "3.12.11"
  }
 },
 "nbformat": 4,
 "nbformat_minor": 5
}
