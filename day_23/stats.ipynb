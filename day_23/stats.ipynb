{
 "cells": [
  {
   "cell_type": "code",
   "execution_count": null,
   "id": "ddf61714",
   "metadata": {},
   "outputs": [
    {
     "name": "stdout",
     "output_type": "stream",
     "text": [
      "4.833333333333333\n",
      "4.0\n"
     ]
    }
   ],
   "source": [
    "import numpy as np\n",
    "\n",
    "# let's create the array and find the mean and median (population data)\n",
    "data = np.array([1,2,3,5,8,10])\n",
    "\n",
    "# mean\n",
    "mean = np.mean(data)\n",
    "# medain \n",
    "median = np.median(data)\n",
    "\n",
    "print(mean)\n",
    "print(median)\n"
   ]
  },
  {
   "cell_type": "code",
   "execution_count": 3,
   "id": "7349bcb3",
   "metadata": {},
   "outputs": [
    {
     "name": "stdout",
     "output_type": "stream",
     "text": [
      "Variance:10.472222222222223\n",
      "Standard Deviation:3.2360813064912666\n"
     ]
    }
   ],
   "source": [
    "# print the varaince and standard deviation for population data\n",
    "var = np.var(data)\n",
    "print(f\"Variance:{var}\")\n",
    "\n",
    "std_v =np.std(data)\n",
    "print(f\"Standard Deviation:{std_v}\")"
   ]
  }
 ],
 "metadata": {
  "kernelspec": {
   "display_name": "Python 3",
   "language": "python",
   "name": "python3"
  },
  "language_info": {
   "codemirror_mode": {
    "name": "ipython",
    "version": 3
   },
   "file_extension": ".py",
   "mimetype": "text/x-python",
   "name": "python",
   "nbconvert_exporter": "python",
   "pygments_lexer": "ipython3",
   "version": "3.12.11"
  }
 },
 "nbformat": 4,
 "nbformat_minor": 5
}
