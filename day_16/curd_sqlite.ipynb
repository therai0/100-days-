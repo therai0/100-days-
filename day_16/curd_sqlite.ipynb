{
 "cells": [
  {
   "cell_type": "code",
   "execution_count": null,
   "id": "19c09a9e",
   "metadata": {},
   "outputs": [],
   "source": [
    "\"\"\" \n",
    "SQL is a complete application that helps manage relational databases and requires significant configuration, including setting up a server. SQLite is a lightweight version of SQL that does not require any configuration. You can create a database and store it locally, making it widely used for embedded systems.\n",
    "\n",
    "\"\"\""
   ]
  },
  {
   "cell_type": "code",
   "execution_count": null,
   "id": "17b75304",
   "metadata": {},
   "outputs": [],
   "source": [
    "# By default sqlite3 is installed in python3\n",
    "import sqlite3\n",
    "\n",
    "connection = sqlite3.connect('students.db') #will create the studensts.bd file\n",
    "\n",
    "cursor = connection.cursor()\n",
    "# A cursor is a control structure that enables you to:\n",
    "# Send commands (SQL queries) to the database\n",
    "# Receive results back from the database (especially SELECT queries)"
   ]
  },
  {
   "cell_type": "code",
   "execution_count": null,
   "id": "b32cf60e",
   "metadata": {},
   "outputs": [],
   "source": [
    "# creating table\n",
    "\n",
    "cursor.execute(\n",
    "    \"\"\"\n",
    "Create table if not exists class_nine(\n",
    "id integer primary key,\n",
    "student_namee text not null,\n",
    "rollno int not null,\n",
    "address text not null\n",
    ")\n",
    " \"\"\"\n",
    ")\n",
    "\n",
    "connection.commit() \n",
    "# commit() use to save the changes made in database\n",
    "\n"
   ]
  },
  {
   "cell_type": "code",
   "execution_count": 15,
   "id": "f49fd485",
   "metadata": {},
   "outputs": [],
   "source": [
    "# inserting the new data in database\n",
    "\n",
    "# cursor.execute(\"INSERT INTO CLASS_NINE(STUDENT_NAMEE,ROLLNO,ADDRESS) VALUES('Aayush Dahal',5,'Sivasatashi-1')\")\n",
    "cursor.execute(\"INSERT INTO CLASS_NINE(STUDENT_NAMEE,ROLLNO,ADDRESS) VALUES('Bhaskar Rai',9,'Mechinagar-3')\")\n",
    "\n",
    "connection.commit()"
   ]
  },
  {
   "cell_type": "code",
   "execution_count": 16,
   "id": "a4093b08",
   "metadata": {},
   "outputs": [
    {
     "name": "stdout",
     "output_type": "stream",
     "text": [
      "(1, 'Aayush Dahal', 5, 'Sivasatashi-1')\n",
      "(2, 'Bhaskar Rai', 9, 'Mechinagar-3')\n"
     ]
    }
   ],
   "source": [
    "cursor.execute(\"SELECT * FROM CLASS_NINE\")\n",
    "\n",
    "rows = cursor.fetchall() # fetching all rows from the table\n",
    "\n",
    "for x in rows:\n",
    "    print(x)"
   ]
  },
  {
   "cell_type": "code",
   "execution_count": 18,
   "id": "c8c0416a",
   "metadata": {},
   "outputs": [],
   "source": [
    "# updating the data\n",
    "cursor.execute('UPDATE CLASS_NINE SET STUDENT_NAMEE = \"Bishal kafle\" WHERE ROLLNO = 9')\n",
    "connection.commit()"
   ]
  },
  {
   "cell_type": "code",
   "execution_count": 19,
   "id": "476a429c",
   "metadata": {},
   "outputs": [
    {
     "name": "stdout",
     "output_type": "stream",
     "text": [
      "(1, 'Aayush Dahal', 5, 'Sivasatashi-1')\n",
      "(2, 'Bishal kafle', 9, 'Mechinagar-3')\n"
     ]
    }
   ],
   "source": [
    "cursor.execute(\"SELECT * FROM CLASS_NINE\")\n",
    "\n",
    "rows = cursor.fetchall() # fetching all rows from the table\n",
    "\n",
    "for x in rows:\n",
    "    print(x)"
   ]
  },
  {
   "cell_type": "code",
   "execution_count": 20,
   "id": "d1cb91fe",
   "metadata": {},
   "outputs": [],
   "source": [
    "# deleting the row\n",
    "\n",
    "cursor.execute('DELETE FROM CLASS_NINE WHERE ROLLNO = 5')\n",
    "connection.commit()"
   ]
  },
  {
   "cell_type": "code",
   "execution_count": 21,
   "id": "1292dfd8",
   "metadata": {},
   "outputs": [
    {
     "name": "stdout",
     "output_type": "stream",
     "text": [
      "(2, 'Bishal kafle', 9, 'Mechinagar-3')\n"
     ]
    }
   ],
   "source": [
    "cursor.execute(\"SELECT * FROM CLASS_NINE\")\n",
    "\n",
    "rows = cursor.fetchall() # fetching all rows from the table\n",
    "\n",
    "for x in rows:\n",
    "    print(x)"
   ]
  }
 ],
 "metadata": {
  "kernelspec": {
   "display_name": "env",
   "language": "python",
   "name": "python3"
  },
  "language_info": {
   "codemirror_mode": {
    "name": "ipython",
    "version": 3
   },
   "file_extension": ".py",
   "mimetype": "text/x-python",
   "name": "python",
   "nbconvert_exporter": "python",
   "pygments_lexer": "ipython3",
   "version": "3.12.11"
  }
 },
 "nbformat": 4,
 "nbformat_minor": 5
}
