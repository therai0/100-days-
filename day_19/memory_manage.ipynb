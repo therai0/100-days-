{
 "cells": [
  {
   "cell_type": "code",
   "execution_count": null,
   "id": "7b19eaa2",
   "metadata": {},
   "outputs": [],
   "source": [
    "\"\"\"\n",
    "Memory management in Python involves a combination of automatic garbage collection, reference counting, and various internal optimizations to efficiently manage memory allocation and deallocation. Understanding this mechanism helps developers write more efficient and robust applications.\n",
    " \"\"\""
   ]
  },
  {
   "cell_type": "code",
   "execution_count": null,
   "id": "64faea1d",
   "metadata": {},
   "outputs": [
    {
     "name": "stdout",
     "output_type": "stream",
     "text": [
      "2\n"
     ]
    }
   ],
   "source": [
    "\"\"\" \n",
    "Reference counting is the primary method Python uses to manage memory. Each object in Python maintains a count of references pointing to it. When the reference count drops to zero, the memory occupied by the object is deallocated.\n",
    "\"\"\"\n",
    "\n",
    "import sys # it provides access to some variables and functions used or maintained by the Python interpreter.\n",
    "a = [1,2,3,4]\n",
    "print(sys.getrefcount(a))\n",
    "# The output is 2 because one reference is from the variable a and the other is from the getrefcount function itself, which temporarily holds a reference while checking."
   ]
  },
  {
   "cell_type": "code",
   "execution_count": 3,
   "id": "feb36e90",
   "metadata": {},
   "outputs": [
    {
     "data": {
      "text/plain": [
       "3"
      ]
     },
     "execution_count": 3,
     "metadata": {},
     "output_type": "execute_result"
    }
   ],
   "source": [
    "\"\"\" \n",
    "Garbage collection\n",
    "\n",
    "if no varaible is use any object anymore then it consider as a garbage\n",
    "Python automatically finds objects you're no longer using.\n",
    "\"\"\"\n",
    "import gc \n",
    "\n",
    "gc.enable() #enable garbage collection\n",
    "\n",
    "gc.disable() # disable the garbage collection\n",
    "\n",
    "gc.collect() # manually collect the garbage\n",
    "\n"
   ]
  },
  {
   "cell_type": "code",
   "execution_count": null,
   "id": "5568a9fb",
   "metadata": {},
   "outputs": [
    {
     "name": "stdout",
     "output_type": "stream",
     "text": [
      "One is created\n",
      "Two is created\n",
      "One with id:4418026432is deleted\n",
      "Two with id:4418013520is deleted\n"
     ]
    },
    {
     "data": {
      "text/plain": [
       "83"
      ]
     },
     "execution_count": 11,
     "metadata": {},
     "output_type": "execute_result"
    }
   ],
   "source": [
    "# Circular Reference and Garbage Collection\n",
    "class Demo_obj:\n",
    "    def __init__(self,object_name):\n",
    "        self.object_name = object_name\n",
    "        print(f\"{self.object_name} is created\")\n",
    "    \n",
    "    def __del__(self): \n",
    "    # It is automatically called when an object is about to be destroyed (i.e., when Python garbage collects it).\n",
    "    # When the object’s reference count becomes zero (no one is using it anymore).\n",
    "    # Python automatically calls __del__() before freeing the object’s memory.\n",
    "        print(f\"{self.object_name} with id:{id(self)}is deleted\")\n",
    "\n",
    "# creating two object\n",
    "obj_one = Demo_obj(\"One\")\n",
    "obj_two = Demo_obj(\"Two\")\n",
    " # cricular reference\n",
    "obj_one.reference = obj_two\n",
    "obj_two.reference = obj_one\n",
    "# Deleting obj_one and obj_two does not immediately call their destructors because of the circular reference.\n",
    "del obj_one\n",
    "del obj_two \n",
    "\n",
    "gc.collect()\n",
    "# gc.collect() will detect and clean up these circularly referenced objects, calling their destructors.\n"
   ]
  },
  {
   "cell_type": "code",
   "execution_count": 18,
   "id": "ef5b0efb",
   "metadata": {},
   "outputs": [
    {
     "name": "stdout",
     "output_type": "stream",
     "text": [
      "8856\n",
      "192\n"
     ]
    }
   ],
   "source": [
    "# Generators for Memory Efficiency\n",
    "import sys\n",
    "\n",
    "#list comprehension\n",
    "lst  = [x for x in range(1000)]\n",
    "# generator expression\n",
    "gen = (x for x in range(1000))\n",
    "\n",
    "print(sys.getsizeof(lst))\n",
    "print(sys.getsizeof(gen))"
   ]
  },
  {
   "cell_type": "code",
   "execution_count": null,
   "id": "8f7cb092",
   "metadata": {},
   "outputs": [
    {
     "name": "stdout",
     "output_type": "stream",
     "text": [
      "Currrent:569881\n",
      "Peak:569881\n"
     ]
    }
   ],
   "source": [
    "\"\"\"\n",
    "Memory Profiling with tracemalloc\n",
    " \"\"\"\n",
    "# Memory profiling with tracemalloc in Python means tracking how much memory your program is using, where that memory is being allocated, and how it changes over time — using the built-in tracemalloc module.\n",
    "import tracemalloc\n",
    "\n",
    "tracemalloc.start() # start tracking memory allocation\n",
    "# allocation some memory\n",
    "lst = [ x for x in range(10000) if x%2 == 0]\n",
    "\n",
    "current,peak = tracemalloc.get_traced_memory()\n",
    "print(f'Currrent memeory uses:{current}')\n",
    "print(f'Peak uses:{current}')\n"
   ]
  },
  {
   "cell_type": "code",
   "execution_count": 23,
   "id": "e95c3341",
   "metadata": {},
   "outputs": [
    {
     "name": "stdout",
     "output_type": "stream",
     "text": [
      "/Volumes/Demo/100_days/day_19/env/lib/python3.12/ast.py:52: size=3599 KiB, count=49998, average=74 B\n",
      "/Volumes/Demo/100_days/day_19/env/lib/python3.12/site-packages/executing/executing.py:171: size=439 KiB, count=6050, average=74 B\n",
      "/Volumes/Demo/100_days/day_19/env/lib/python3.12/linecache.py:142: size=326 KiB, count=3460, average=97 B\n",
      "/Volumes/Demo/100_days/day_19/env/lib/python3.12/site-packages/executing/executing.py:154: size=324 KiB, count=3473, average=95 B\n",
      "/Volumes/Demo/100_days/day_19/env/lib/python3.12/inspect.py:2269: size=203 KiB, count=8, average=25.4 KiB\n"
     ]
    }
   ],
   "source": [
    "# using snapshot\n",
    "\n",
    "tracemalloc.start()\n",
    "\n",
    "# function to return large list\n",
    "def create_lst(n):\n",
    "    return [x for x in range(n)]\n",
    "\n",
    "\n",
    "# main function\n",
    "def main():\n",
    "    create_lst(50000)\n",
    "    snapshot = tracemalloc.take_snapshot() #taking snapsot\n",
    "    stats =  snapshot.statistics('lineno')\n",
    "    for stat in stats[:5]:\n",
    "        print(stat)\n",
    "\n",
    "# calling main funcrion\n",
    "main()"
   ]
  }
 ],
 "metadata": {
  "kernelspec": {
   "display_name": "env",
   "language": "python",
   "name": "python3"
  },
  "language_info": {
   "codemirror_mode": {
    "name": "ipython",
    "version": 3
   },
   "file_extension": ".py",
   "mimetype": "text/x-python",
   "name": "python",
   "nbconvert_exporter": "python",
   "pygments_lexer": "ipython3",
   "version": "3.12.11"
  }
 },
 "nbformat": 4,
 "nbformat_minor": 5
}
