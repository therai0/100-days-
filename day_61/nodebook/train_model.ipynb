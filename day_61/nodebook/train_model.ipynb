{
 "cells": [
  {
   "cell_type": "markdown",
   "id": "caa25c6a",
   "metadata": {},
   "source": [
    "## Predict the Temperature"
   ]
  },
  {
   "cell_type": "code",
   "execution_count": 1,
   "id": "f207da19",
   "metadata": {},
   "outputs": [],
   "source": [
    "import pandas as pd \n",
    "import numpy as np\n",
    "import seaborn as sns \n",
    "import matplotlib.pyplot as plt "
   ]
  },
  {
   "cell_type": "code",
   "execution_count": 9,
   "id": "42e43447",
   "metadata": {},
   "outputs": [
    {
     "data": {
      "text/html": [
       "<div>\n",
       "<style scoped>\n",
       "    .dataframe tbody tr th:only-of-type {\n",
       "        vertical-align: middle;\n",
       "    }\n",
       "\n",
       "    .dataframe tbody tr th {\n",
       "        vertical-align: top;\n",
       "    }\n",
       "\n",
       "    .dataframe thead th {\n",
       "        text-align: right;\n",
       "    }\n",
       "</style>\n",
       "<table border=\"1\" class=\"dataframe\">\n",
       "  <thead>\n",
       "    <tr style=\"text-align: right;\">\n",
       "      <th></th>\n",
       "      <th>Unnamed: 0</th>\n",
       "      <th>day</th>\n",
       "      <th>month</th>\n",
       "      <th>year</th>\n",
       "      <th>Temperature</th>\n",
       "      <th>RH</th>\n",
       "      <th>Ws</th>\n",
       "      <th>Rain</th>\n",
       "      <th>FFMC</th>\n",
       "      <th>DMC</th>\n",
       "      <th>DC</th>\n",
       "      <th>ISI</th>\n",
       "      <th>BUI</th>\n",
       "      <th>FWI</th>\n",
       "      <th>Classes</th>\n",
       "      <th>Region</th>\n",
       "    </tr>\n",
       "  </thead>\n",
       "  <tbody>\n",
       "    <tr>\n",
       "      <th>0</th>\n",
       "      <td>0</td>\n",
       "      <td>1</td>\n",
       "      <td>6</td>\n",
       "      <td>2012</td>\n",
       "      <td>29</td>\n",
       "      <td>57</td>\n",
       "      <td>18</td>\n",
       "      <td>0.0</td>\n",
       "      <td>65.7</td>\n",
       "      <td>3.4</td>\n",
       "      <td>7.6</td>\n",
       "      <td>1.3</td>\n",
       "      <td>3.4</td>\n",
       "      <td>0.5</td>\n",
       "      <td>not fire</td>\n",
       "      <td>0</td>\n",
       "    </tr>\n",
       "    <tr>\n",
       "      <th>1</th>\n",
       "      <td>1</td>\n",
       "      <td>2</td>\n",
       "      <td>6</td>\n",
       "      <td>2012</td>\n",
       "      <td>29</td>\n",
       "      <td>61</td>\n",
       "      <td>13</td>\n",
       "      <td>1.3</td>\n",
       "      <td>64.4</td>\n",
       "      <td>4.1</td>\n",
       "      <td>7.6</td>\n",
       "      <td>1.0</td>\n",
       "      <td>3.9</td>\n",
       "      <td>0.4</td>\n",
       "      <td>not fire</td>\n",
       "      <td>0</td>\n",
       "    </tr>\n",
       "    <tr>\n",
       "      <th>2</th>\n",
       "      <td>2</td>\n",
       "      <td>3</td>\n",
       "      <td>6</td>\n",
       "      <td>2012</td>\n",
       "      <td>26</td>\n",
       "      <td>82</td>\n",
       "      <td>22</td>\n",
       "      <td>13.1</td>\n",
       "      <td>47.1</td>\n",
       "      <td>2.5</td>\n",
       "      <td>7.1</td>\n",
       "      <td>0.3</td>\n",
       "      <td>2.7</td>\n",
       "      <td>0.1</td>\n",
       "      <td>not fire</td>\n",
       "      <td>0</td>\n",
       "    </tr>\n",
       "    <tr>\n",
       "      <th>3</th>\n",
       "      <td>3</td>\n",
       "      <td>4</td>\n",
       "      <td>6</td>\n",
       "      <td>2012</td>\n",
       "      <td>25</td>\n",
       "      <td>89</td>\n",
       "      <td>13</td>\n",
       "      <td>2.5</td>\n",
       "      <td>28.6</td>\n",
       "      <td>1.3</td>\n",
       "      <td>6.9</td>\n",
       "      <td>0.0</td>\n",
       "      <td>1.7</td>\n",
       "      <td>0.0</td>\n",
       "      <td>not fire</td>\n",
       "      <td>0</td>\n",
       "    </tr>\n",
       "    <tr>\n",
       "      <th>4</th>\n",
       "      <td>4</td>\n",
       "      <td>5</td>\n",
       "      <td>6</td>\n",
       "      <td>2012</td>\n",
       "      <td>27</td>\n",
       "      <td>77</td>\n",
       "      <td>16</td>\n",
       "      <td>0.0</td>\n",
       "      <td>64.8</td>\n",
       "      <td>3.0</td>\n",
       "      <td>14.2</td>\n",
       "      <td>1.2</td>\n",
       "      <td>3.9</td>\n",
       "      <td>0.5</td>\n",
       "      <td>not fire</td>\n",
       "      <td>0</td>\n",
       "    </tr>\n",
       "  </tbody>\n",
       "</table>\n",
       "</div>"
      ],
      "text/plain": [
       "   Unnamed: 0  day  month  year  Temperature  RH  Ws  Rain  FFMC  DMC    DC  \\\n",
       "0           0    1      6  2012           29  57  18   0.0  65.7  3.4   7.6   \n",
       "1           1    2      6  2012           29  61  13   1.3  64.4  4.1   7.6   \n",
       "2           2    3      6  2012           26  82  22  13.1  47.1  2.5   7.1   \n",
       "3           3    4      6  2012           25  89  13   2.5  28.6  1.3   6.9   \n",
       "4           4    5      6  2012           27  77  16   0.0  64.8  3.0  14.2   \n",
       "\n",
       "   ISI  BUI  FWI      Classes  Region  \n",
       "0  1.3  3.4  0.5  not fire          0  \n",
       "1  1.0  3.9  0.4  not fire          0  \n",
       "2  0.3  2.7  0.1  not fire          0  \n",
       "3  0.0  1.7  0.0  not fire          0  \n",
       "4  1.2  3.9  0.5  not fire          0  "
      ]
     },
     "execution_count": 9,
     "metadata": {},
     "output_type": "execute_result"
    }
   ],
   "source": [
    "df = pd.read_csv('clean_dataset.csv')\n",
    "df.head()"
   ]
  },
  {
   "cell_type": "code",
   "execution_count": 10,
   "id": "582bc91c",
   "metadata": {},
   "outputs": [],
   "source": [
    "# droping some features which is not important\n",
    "df = df.drop(['day','month','year'],axis=1)"
   ]
  },
  {
   "cell_type": "code",
   "execution_count": 11,
   "id": "b5f5c3bf",
   "metadata": {},
   "outputs": [],
   "source": [
    "# encoding the value of Classes \n",
    "df['Classes'] = np.where(df['Classes'].str.contains('not fire'),0,1)"
   ]
  },
  {
   "cell_type": "code",
   "execution_count": 12,
   "id": "d34d83f6",
   "metadata": {},
   "outputs": [
    {
     "name": "stdout",
     "output_type": "stream",
     "text": [
      "<class 'pandas.core.frame.DataFrame'>\n",
      "RangeIndex: 243 entries, 0 to 242\n",
      "Data columns (total 13 columns):\n",
      " #   Column       Non-Null Count  Dtype  \n",
      "---  ------       --------------  -----  \n",
      " 0   Unnamed: 0   243 non-null    int64  \n",
      " 1   Temperature  243 non-null    int64  \n",
      " 2   RH           243 non-null    int64  \n",
      " 3   Ws           243 non-null    int64  \n",
      " 4   Rain         243 non-null    float64\n",
      " 5   FFMC         243 non-null    float64\n",
      " 6   DMC          243 non-null    float64\n",
      " 7   DC           243 non-null    float64\n",
      " 8   ISI          243 non-null    float64\n",
      " 9   BUI          243 non-null    float64\n",
      " 10  FWI          243 non-null    float64\n",
      " 11  Classes      243 non-null    int64  \n",
      " 12  Region       243 non-null    int64  \n",
      "dtypes: float64(7), int64(6)\n",
      "memory usage: 24.8 KB\n"
     ]
    }
   ],
   "source": [
    "df.info()"
   ]
  },
  {
   "cell_type": "code",
   "execution_count": 135,
   "id": "334b9c3e",
   "metadata": {},
   "outputs": [],
   "source": [
    "# seperating the independent and dependent features\n",
    "x = df.drop('Temperature',axis=1) # independent feature\n",
    "y = df['Temperature'] # Temperature will be dependent features"
   ]
  },
  {
   "cell_type": "code",
   "execution_count": 136,
   "id": "2617f5a6",
   "metadata": {},
   "outputs": [],
   "source": [
    "x = x.drop('Unnamed: 0',axis=1) "
   ]
  },
  {
   "cell_type": "code",
   "execution_count": 137,
   "id": "8e573d43",
   "metadata": {},
   "outputs": [
    {
     "data": {
      "text/html": [
       "<div>\n",
       "<style scoped>\n",
       "    .dataframe tbody tr th:only-of-type {\n",
       "        vertical-align: middle;\n",
       "    }\n",
       "\n",
       "    .dataframe tbody tr th {\n",
       "        vertical-align: top;\n",
       "    }\n",
       "\n",
       "    .dataframe thead th {\n",
       "        text-align: right;\n",
       "    }\n",
       "</style>\n",
       "<table border=\"1\" class=\"dataframe\">\n",
       "  <thead>\n",
       "    <tr style=\"text-align: right;\">\n",
       "      <th></th>\n",
       "      <th>RH</th>\n",
       "      <th>Ws</th>\n",
       "      <th>Rain</th>\n",
       "      <th>FFMC</th>\n",
       "      <th>DMC</th>\n",
       "      <th>DC</th>\n",
       "      <th>ISI</th>\n",
       "      <th>BUI</th>\n",
       "      <th>FWI</th>\n",
       "      <th>Classes</th>\n",
       "      <th>Region</th>\n",
       "    </tr>\n",
       "  </thead>\n",
       "  <tbody>\n",
       "    <tr>\n",
       "      <th>0</th>\n",
       "      <td>57</td>\n",
       "      <td>18</td>\n",
       "      <td>0.0</td>\n",
       "      <td>65.7</td>\n",
       "      <td>3.4</td>\n",
       "      <td>7.6</td>\n",
       "      <td>1.3</td>\n",
       "      <td>3.4</td>\n",
       "      <td>0.5</td>\n",
       "      <td>0</td>\n",
       "      <td>0</td>\n",
       "    </tr>\n",
       "    <tr>\n",
       "      <th>1</th>\n",
       "      <td>61</td>\n",
       "      <td>13</td>\n",
       "      <td>1.3</td>\n",
       "      <td>64.4</td>\n",
       "      <td>4.1</td>\n",
       "      <td>7.6</td>\n",
       "      <td>1.0</td>\n",
       "      <td>3.9</td>\n",
       "      <td>0.4</td>\n",
       "      <td>0</td>\n",
       "      <td>0</td>\n",
       "    </tr>\n",
       "    <tr>\n",
       "      <th>2</th>\n",
       "      <td>82</td>\n",
       "      <td>22</td>\n",
       "      <td>13.1</td>\n",
       "      <td>47.1</td>\n",
       "      <td>2.5</td>\n",
       "      <td>7.1</td>\n",
       "      <td>0.3</td>\n",
       "      <td>2.7</td>\n",
       "      <td>0.1</td>\n",
       "      <td>0</td>\n",
       "      <td>0</td>\n",
       "    </tr>\n",
       "    <tr>\n",
       "      <th>3</th>\n",
       "      <td>89</td>\n",
       "      <td>13</td>\n",
       "      <td>2.5</td>\n",
       "      <td>28.6</td>\n",
       "      <td>1.3</td>\n",
       "      <td>6.9</td>\n",
       "      <td>0.0</td>\n",
       "      <td>1.7</td>\n",
       "      <td>0.0</td>\n",
       "      <td>0</td>\n",
       "      <td>0</td>\n",
       "    </tr>\n",
       "    <tr>\n",
       "      <th>4</th>\n",
       "      <td>77</td>\n",
       "      <td>16</td>\n",
       "      <td>0.0</td>\n",
       "      <td>64.8</td>\n",
       "      <td>3.0</td>\n",
       "      <td>14.2</td>\n",
       "      <td>1.2</td>\n",
       "      <td>3.9</td>\n",
       "      <td>0.5</td>\n",
       "      <td>0</td>\n",
       "      <td>0</td>\n",
       "    </tr>\n",
       "    <tr>\n",
       "      <th>...</th>\n",
       "      <td>...</td>\n",
       "      <td>...</td>\n",
       "      <td>...</td>\n",
       "      <td>...</td>\n",
       "      <td>...</td>\n",
       "      <td>...</td>\n",
       "      <td>...</td>\n",
       "      <td>...</td>\n",
       "      <td>...</td>\n",
       "      <td>...</td>\n",
       "      <td>...</td>\n",
       "    </tr>\n",
       "    <tr>\n",
       "      <th>238</th>\n",
       "      <td>65</td>\n",
       "      <td>14</td>\n",
       "      <td>0.0</td>\n",
       "      <td>85.4</td>\n",
       "      <td>16.0</td>\n",
       "      <td>44.5</td>\n",
       "      <td>4.5</td>\n",
       "      <td>16.9</td>\n",
       "      <td>6.5</td>\n",
       "      <td>1</td>\n",
       "      <td>1</td>\n",
       "    </tr>\n",
       "    <tr>\n",
       "      <th>239</th>\n",
       "      <td>87</td>\n",
       "      <td>15</td>\n",
       "      <td>4.4</td>\n",
       "      <td>41.1</td>\n",
       "      <td>6.5</td>\n",
       "      <td>8.0</td>\n",
       "      <td>0.1</td>\n",
       "      <td>6.2</td>\n",
       "      <td>0.0</td>\n",
       "      <td>0</td>\n",
       "      <td>1</td>\n",
       "    </tr>\n",
       "    <tr>\n",
       "      <th>240</th>\n",
       "      <td>87</td>\n",
       "      <td>29</td>\n",
       "      <td>0.5</td>\n",
       "      <td>45.9</td>\n",
       "      <td>3.5</td>\n",
       "      <td>7.9</td>\n",
       "      <td>0.4</td>\n",
       "      <td>3.4</td>\n",
       "      <td>0.2</td>\n",
       "      <td>0</td>\n",
       "      <td>1</td>\n",
       "    </tr>\n",
       "    <tr>\n",
       "      <th>241</th>\n",
       "      <td>54</td>\n",
       "      <td>18</td>\n",
       "      <td>0.1</td>\n",
       "      <td>79.7</td>\n",
       "      <td>4.3</td>\n",
       "      <td>15.2</td>\n",
       "      <td>1.7</td>\n",
       "      <td>5.1</td>\n",
       "      <td>0.7</td>\n",
       "      <td>0</td>\n",
       "      <td>1</td>\n",
       "    </tr>\n",
       "    <tr>\n",
       "      <th>242</th>\n",
       "      <td>64</td>\n",
       "      <td>15</td>\n",
       "      <td>0.2</td>\n",
       "      <td>67.3</td>\n",
       "      <td>3.8</td>\n",
       "      <td>16.5</td>\n",
       "      <td>1.2</td>\n",
       "      <td>4.8</td>\n",
       "      <td>0.5</td>\n",
       "      <td>0</td>\n",
       "      <td>1</td>\n",
       "    </tr>\n",
       "  </tbody>\n",
       "</table>\n",
       "<p>243 rows × 11 columns</p>\n",
       "</div>"
      ],
      "text/plain": [
       "     RH  Ws  Rain  FFMC   DMC    DC  ISI   BUI  FWI  Classes  Region\n",
       "0    57  18   0.0  65.7   3.4   7.6  1.3   3.4  0.5        0       0\n",
       "1    61  13   1.3  64.4   4.1   7.6  1.0   3.9  0.4        0       0\n",
       "2    82  22  13.1  47.1   2.5   7.1  0.3   2.7  0.1        0       0\n",
       "3    89  13   2.5  28.6   1.3   6.9  0.0   1.7  0.0        0       0\n",
       "4    77  16   0.0  64.8   3.0  14.2  1.2   3.9  0.5        0       0\n",
       "..   ..  ..   ...   ...   ...   ...  ...   ...  ...      ...     ...\n",
       "238  65  14   0.0  85.4  16.0  44.5  4.5  16.9  6.5        1       1\n",
       "239  87  15   4.4  41.1   6.5   8.0  0.1   6.2  0.0        0       1\n",
       "240  87  29   0.5  45.9   3.5   7.9  0.4   3.4  0.2        0       1\n",
       "241  54  18   0.1  79.7   4.3  15.2  1.7   5.1  0.7        0       1\n",
       "242  64  15   0.2  67.3   3.8  16.5  1.2   4.8  0.5        0       1\n",
       "\n",
       "[243 rows x 11 columns]"
      ]
     },
     "execution_count": 137,
     "metadata": {},
     "output_type": "execute_result"
    }
   ],
   "source": [
    "x"
   ]
  },
  {
   "cell_type": "code",
   "execution_count": 138,
   "id": "dbf79c3d",
   "metadata": {},
   "outputs": [
    {
     "data": {
      "text/plain": [
       "0      29\n",
       "1      29\n",
       "2      26\n",
       "3      25\n",
       "4      27\n",
       "       ..\n",
       "238    30\n",
       "239    28\n",
       "240    27\n",
       "241    24\n",
       "242    24\n",
       "Name: Temperature, Length: 243, dtype: int64"
      ]
     },
     "execution_count": 138,
     "metadata": {},
     "output_type": "execute_result"
    }
   ],
   "source": [
    "y"
   ]
  },
  {
   "cell_type": "code",
   "execution_count": 139,
   "id": "525b987b",
   "metadata": {},
   "outputs": [],
   "source": [
    "# splittig the dataset \n",
    "from sklearn.model_selection import train_test_split\n",
    "x_train,x_test,y_train,y_test = train_test_split(x,y,test_size=0.30,random_state=42)"
   ]
  },
  {
   "cell_type": "markdown",
   "id": "fc3b715e",
   "metadata": {},
   "source": [
    "## Feature selecting "
   ]
  },
  {
   "cell_type": "code",
   "execution_count": 140,
   "id": "5d74fdb2",
   "metadata": {},
   "outputs": [
    {
     "data": {
      "text/html": [
       "<div>\n",
       "<style scoped>\n",
       "    .dataframe tbody tr th:only-of-type {\n",
       "        vertical-align: middle;\n",
       "    }\n",
       "\n",
       "    .dataframe tbody tr th {\n",
       "        vertical-align: top;\n",
       "    }\n",
       "\n",
       "    .dataframe thead th {\n",
       "        text-align: right;\n",
       "    }\n",
       "</style>\n",
       "<table border=\"1\" class=\"dataframe\">\n",
       "  <thead>\n",
       "    <tr style=\"text-align: right;\">\n",
       "      <th></th>\n",
       "      <th>RH</th>\n",
       "      <th>Ws</th>\n",
       "      <th>Rain</th>\n",
       "      <th>FFMC</th>\n",
       "      <th>DMC</th>\n",
       "      <th>DC</th>\n",
       "      <th>ISI</th>\n",
       "      <th>BUI</th>\n",
       "      <th>FWI</th>\n",
       "      <th>Classes</th>\n",
       "      <th>Region</th>\n",
       "    </tr>\n",
       "  </thead>\n",
       "  <tbody>\n",
       "    <tr>\n",
       "      <th>29</th>\n",
       "      <td>50</td>\n",
       "      <td>14</td>\n",
       "      <td>0.0</td>\n",
       "      <td>88.7</td>\n",
       "      <td>22.9</td>\n",
       "      <td>92.8</td>\n",
       "      <td>7.2</td>\n",
       "      <td>28.3</td>\n",
       "      <td>12.9</td>\n",
       "      <td>1</td>\n",
       "      <td>0</td>\n",
       "    </tr>\n",
       "    <tr>\n",
       "      <th>120</th>\n",
       "      <td>80</td>\n",
       "      <td>16</td>\n",
       "      <td>1.8</td>\n",
       "      <td>47.4</td>\n",
       "      <td>2.9</td>\n",
       "      <td>7.7</td>\n",
       "      <td>0.3</td>\n",
       "      <td>3.0</td>\n",
       "      <td>0.1</td>\n",
       "      <td>0</td>\n",
       "      <td>0</td>\n",
       "    </tr>\n",
       "    <tr>\n",
       "      <th>114</th>\n",
       "      <td>54</td>\n",
       "      <td>11</td>\n",
       "      <td>0.5</td>\n",
       "      <td>73.7</td>\n",
       "      <td>7.9</td>\n",
       "      <td>30.4</td>\n",
       "      <td>1.2</td>\n",
       "      <td>9.6</td>\n",
       "      <td>0.7</td>\n",
       "      <td>0</td>\n",
       "      <td>0</td>\n",
       "    </tr>\n",
       "    <tr>\n",
       "      <th>241</th>\n",
       "      <td>54</td>\n",
       "      <td>18</td>\n",
       "      <td>0.1</td>\n",
       "      <td>79.7</td>\n",
       "      <td>4.3</td>\n",
       "      <td>15.2</td>\n",
       "      <td>1.7</td>\n",
       "      <td>5.1</td>\n",
       "      <td>0.7</td>\n",
       "      <td>0</td>\n",
       "      <td>1</td>\n",
       "    </tr>\n",
       "    <tr>\n",
       "      <th>5</th>\n",
       "      <td>67</td>\n",
       "      <td>14</td>\n",
       "      <td>0.0</td>\n",
       "      <td>82.6</td>\n",
       "      <td>5.8</td>\n",
       "      <td>22.2</td>\n",
       "      <td>3.1</td>\n",
       "      <td>7.0</td>\n",
       "      <td>2.5</td>\n",
       "      <td>1</td>\n",
       "      <td>0</td>\n",
       "    </tr>\n",
       "    <tr>\n",
       "      <th>...</th>\n",
       "      <td>...</td>\n",
       "      <td>...</td>\n",
       "      <td>...</td>\n",
       "      <td>...</td>\n",
       "      <td>...</td>\n",
       "      <td>...</td>\n",
       "      <td>...</td>\n",
       "      <td>...</td>\n",
       "      <td>...</td>\n",
       "      <td>...</td>\n",
       "      <td>...</td>\n",
       "    </tr>\n",
       "    <tr>\n",
       "      <th>106</th>\n",
       "      <td>82</td>\n",
       "      <td>15</td>\n",
       "      <td>0.4</td>\n",
       "      <td>44.9</td>\n",
       "      <td>0.9</td>\n",
       "      <td>7.3</td>\n",
       "      <td>0.2</td>\n",
       "      <td>1.4</td>\n",
       "      <td>0.0</td>\n",
       "      <td>0</td>\n",
       "      <td>0</td>\n",
       "    </tr>\n",
       "    <tr>\n",
       "      <th>14</th>\n",
       "      <td>80</td>\n",
       "      <td>17</td>\n",
       "      <td>3.1</td>\n",
       "      <td>49.4</td>\n",
       "      <td>3.0</td>\n",
       "      <td>7.4</td>\n",
       "      <td>0.4</td>\n",
       "      <td>3.0</td>\n",
       "      <td>0.1</td>\n",
       "      <td>0</td>\n",
       "      <td>0</td>\n",
       "    </tr>\n",
       "    <tr>\n",
       "      <th>92</th>\n",
       "      <td>76</td>\n",
       "      <td>17</td>\n",
       "      <td>7.2</td>\n",
       "      <td>46.0</td>\n",
       "      <td>1.3</td>\n",
       "      <td>7.5</td>\n",
       "      <td>0.2</td>\n",
       "      <td>1.8</td>\n",
       "      <td>0.1</td>\n",
       "      <td>0</td>\n",
       "      <td>0</td>\n",
       "    </tr>\n",
       "    <tr>\n",
       "      <th>179</th>\n",
       "      <td>59</td>\n",
       "      <td>16</td>\n",
       "      <td>0.0</td>\n",
       "      <td>88.1</td>\n",
       "      <td>19.5</td>\n",
       "      <td>47.2</td>\n",
       "      <td>7.4</td>\n",
       "      <td>19.5</td>\n",
       "      <td>10.9</td>\n",
       "      <td>1</td>\n",
       "      <td>1</td>\n",
       "    </tr>\n",
       "    <tr>\n",
       "      <th>102</th>\n",
       "      <td>77</td>\n",
       "      <td>21</td>\n",
       "      <td>1.8</td>\n",
       "      <td>58.5</td>\n",
       "      <td>1.9</td>\n",
       "      <td>8.4</td>\n",
       "      <td>1.1</td>\n",
       "      <td>2.4</td>\n",
       "      <td>0.3</td>\n",
       "      <td>0</td>\n",
       "      <td>0</td>\n",
       "    </tr>\n",
       "  </tbody>\n",
       "</table>\n",
       "<p>170 rows × 11 columns</p>\n",
       "</div>"
      ],
      "text/plain": [
       "     RH  Ws  Rain  FFMC   DMC    DC  ISI   BUI   FWI  Classes  Region\n",
       "29   50  14   0.0  88.7  22.9  92.8  7.2  28.3  12.9        1       0\n",
       "120  80  16   1.8  47.4   2.9   7.7  0.3   3.0   0.1        0       0\n",
       "114  54  11   0.5  73.7   7.9  30.4  1.2   9.6   0.7        0       0\n",
       "241  54  18   0.1  79.7   4.3  15.2  1.7   5.1   0.7        0       1\n",
       "5    67  14   0.0  82.6   5.8  22.2  3.1   7.0   2.5        1       0\n",
       "..   ..  ..   ...   ...   ...   ...  ...   ...   ...      ...     ...\n",
       "106  82  15   0.4  44.9   0.9   7.3  0.2   1.4   0.0        0       0\n",
       "14   80  17   3.1  49.4   3.0   7.4  0.4   3.0   0.1        0       0\n",
       "92   76  17   7.2  46.0   1.3   7.5  0.2   1.8   0.1        0       0\n",
       "179  59  16   0.0  88.1  19.5  47.2  7.4  19.5  10.9        1       1\n",
       "102  77  21   1.8  58.5   1.9   8.4  1.1   2.4   0.3        0       0\n",
       "\n",
       "[170 rows x 11 columns]"
      ]
     },
     "execution_count": 140,
     "metadata": {},
     "output_type": "execute_result"
    }
   ],
   "source": [
    "x_train"
   ]
  },
  {
   "cell_type": "code",
   "execution_count": 141,
   "id": "0b7cae1f",
   "metadata": {},
   "outputs": [
    {
     "data": {
      "text/html": [
       "<div>\n",
       "<style scoped>\n",
       "    .dataframe tbody tr th:only-of-type {\n",
       "        vertical-align: middle;\n",
       "    }\n",
       "\n",
       "    .dataframe tbody tr th {\n",
       "        vertical-align: top;\n",
       "    }\n",
       "\n",
       "    .dataframe thead th {\n",
       "        text-align: right;\n",
       "    }\n",
       "</style>\n",
       "<table border=\"1\" class=\"dataframe\">\n",
       "  <thead>\n",
       "    <tr style=\"text-align: right;\">\n",
       "      <th></th>\n",
       "      <th>RH</th>\n",
       "      <th>Ws</th>\n",
       "      <th>Rain</th>\n",
       "      <th>FFMC</th>\n",
       "      <th>DMC</th>\n",
       "      <th>DC</th>\n",
       "      <th>ISI</th>\n",
       "      <th>BUI</th>\n",
       "      <th>FWI</th>\n",
       "      <th>Classes</th>\n",
       "      <th>Region</th>\n",
       "    </tr>\n",
       "  </thead>\n",
       "  <tbody>\n",
       "    <tr>\n",
       "      <th>RH</th>\n",
       "      <td>1.000000</td>\n",
       "      <td>0.201762</td>\n",
       "      <td>0.226259</td>\n",
       "      <td>-0.640759</td>\n",
       "      <td>-0.421517</td>\n",
       "      <td>-0.253547</td>\n",
       "      <td>-0.715106</td>\n",
       "      <td>-0.373155</td>\n",
       "      <td>-0.609419</td>\n",
       "      <td>-0.443073</td>\n",
       "      <td>-0.394121</td>\n",
       "    </tr>\n",
       "    <tr>\n",
       "      <th>Ws</th>\n",
       "      <td>0.201762</td>\n",
       "      <td>1.000000</td>\n",
       "      <td>0.244784</td>\n",
       "      <td>-0.169620</td>\n",
       "      <td>0.009523</td>\n",
       "      <td>0.092367</td>\n",
       "      <td>-0.004035</td>\n",
       "      <td>0.040699</td>\n",
       "      <td>0.020177</td>\n",
       "      <td>-0.062718</td>\n",
       "      <td>-0.182236</td>\n",
       "    </tr>\n",
       "    <tr>\n",
       "      <th>Rain</th>\n",
       "      <td>0.226259</td>\n",
       "      <td>0.244784</td>\n",
       "      <td>1.000000</td>\n",
       "      <td>-0.536790</td>\n",
       "      <td>-0.288856</td>\n",
       "      <td>-0.304328</td>\n",
       "      <td>-0.341902</td>\n",
       "      <td>-0.300998</td>\n",
       "      <td>-0.322746</td>\n",
       "      <td>-0.367767</td>\n",
       "      <td>-0.051964</td>\n",
       "    </tr>\n",
       "    <tr>\n",
       "      <th>FFMC</th>\n",
       "      <td>-0.640759</td>\n",
       "      <td>-0.169620</td>\n",
       "      <td>-0.536790</td>\n",
       "      <td>1.000000</td>\n",
       "      <td>0.625593</td>\n",
       "      <td>0.533040</td>\n",
       "      <td>0.748574</td>\n",
       "      <td>0.613526</td>\n",
       "      <td>0.708738</td>\n",
       "      <td>0.781730</td>\n",
       "      <td>0.251710</td>\n",
       "    </tr>\n",
       "    <tr>\n",
       "      <th>DMC</th>\n",
       "      <td>-0.421517</td>\n",
       "      <td>0.009523</td>\n",
       "      <td>-0.288856</td>\n",
       "      <td>0.625593</td>\n",
       "      <td>1.000000</td>\n",
       "      <td>0.870419</td>\n",
       "      <td>0.692435</td>\n",
       "      <td>0.983426</td>\n",
       "      <td>0.883802</td>\n",
       "      <td>0.619536</td>\n",
       "      <td>0.210853</td>\n",
       "    </tr>\n",
       "    <tr>\n",
       "      <th>DC</th>\n",
       "      <td>-0.253547</td>\n",
       "      <td>0.092367</td>\n",
       "      <td>-0.304328</td>\n",
       "      <td>0.533040</td>\n",
       "      <td>0.870419</td>\n",
       "      <td>1.000000</td>\n",
       "      <td>0.524898</td>\n",
       "      <td>0.943125</td>\n",
       "      <td>0.750205</td>\n",
       "      <td>0.551208</td>\n",
       "      <td>-0.056844</td>\n",
       "    </tr>\n",
       "    <tr>\n",
       "      <th>ISI</th>\n",
       "      <td>-0.715106</td>\n",
       "      <td>-0.004035</td>\n",
       "      <td>-0.341902</td>\n",
       "      <td>0.748574</td>\n",
       "      <td>0.692435</td>\n",
       "      <td>0.524898</td>\n",
       "      <td>1.000000</td>\n",
       "      <td>0.652179</td>\n",
       "      <td>0.920125</td>\n",
       "      <td>0.737184</td>\n",
       "      <td>0.290294</td>\n",
       "    </tr>\n",
       "    <tr>\n",
       "      <th>BUI</th>\n",
       "      <td>-0.373155</td>\n",
       "      <td>0.040699</td>\n",
       "      <td>-0.300998</td>\n",
       "      <td>0.613526</td>\n",
       "      <td>0.983426</td>\n",
       "      <td>0.943125</td>\n",
       "      <td>0.652179</td>\n",
       "      <td>1.000000</td>\n",
       "      <td>0.862592</td>\n",
       "      <td>0.616406</td>\n",
       "      <td>0.115434</td>\n",
       "    </tr>\n",
       "    <tr>\n",
       "      <th>FWI</th>\n",
       "      <td>-0.609419</td>\n",
       "      <td>0.020177</td>\n",
       "      <td>-0.322746</td>\n",
       "      <td>0.708738</td>\n",
       "      <td>0.883802</td>\n",
       "      <td>0.750205</td>\n",
       "      <td>0.920125</td>\n",
       "      <td>0.862592</td>\n",
       "      <td>1.000000</td>\n",
       "      <td>0.731027</td>\n",
       "      <td>0.223808</td>\n",
       "    </tr>\n",
       "    <tr>\n",
       "      <th>Classes</th>\n",
       "      <td>-0.443073</td>\n",
       "      <td>-0.062718</td>\n",
       "      <td>-0.367767</td>\n",
       "      <td>0.781730</td>\n",
       "      <td>0.619536</td>\n",
       "      <td>0.551208</td>\n",
       "      <td>0.737184</td>\n",
       "      <td>0.616406</td>\n",
       "      <td>0.731027</td>\n",
       "      <td>1.000000</td>\n",
       "      <td>0.177257</td>\n",
       "    </tr>\n",
       "    <tr>\n",
       "      <th>Region</th>\n",
       "      <td>-0.394121</td>\n",
       "      <td>-0.182236</td>\n",
       "      <td>-0.051964</td>\n",
       "      <td>0.251710</td>\n",
       "      <td>0.210853</td>\n",
       "      <td>-0.056844</td>\n",
       "      <td>0.290294</td>\n",
       "      <td>0.115434</td>\n",
       "      <td>0.223808</td>\n",
       "      <td>0.177257</td>\n",
       "      <td>1.000000</td>\n",
       "    </tr>\n",
       "  </tbody>\n",
       "</table>\n",
       "</div>"
      ],
      "text/plain": [
       "               RH        Ws      Rain      FFMC       DMC        DC       ISI  \\\n",
       "RH       1.000000  0.201762  0.226259 -0.640759 -0.421517 -0.253547 -0.715106   \n",
       "Ws       0.201762  1.000000  0.244784 -0.169620  0.009523  0.092367 -0.004035   \n",
       "Rain     0.226259  0.244784  1.000000 -0.536790 -0.288856 -0.304328 -0.341902   \n",
       "FFMC    -0.640759 -0.169620 -0.536790  1.000000  0.625593  0.533040  0.748574   \n",
       "DMC     -0.421517  0.009523 -0.288856  0.625593  1.000000  0.870419  0.692435   \n",
       "DC      -0.253547  0.092367 -0.304328  0.533040  0.870419  1.000000  0.524898   \n",
       "ISI     -0.715106 -0.004035 -0.341902  0.748574  0.692435  0.524898  1.000000   \n",
       "BUI     -0.373155  0.040699 -0.300998  0.613526  0.983426  0.943125  0.652179   \n",
       "FWI     -0.609419  0.020177 -0.322746  0.708738  0.883802  0.750205  0.920125   \n",
       "Classes -0.443073 -0.062718 -0.367767  0.781730  0.619536  0.551208  0.737184   \n",
       "Region  -0.394121 -0.182236 -0.051964  0.251710  0.210853 -0.056844  0.290294   \n",
       "\n",
       "              BUI       FWI   Classes    Region  \n",
       "RH      -0.373155 -0.609419 -0.443073 -0.394121  \n",
       "Ws       0.040699  0.020177 -0.062718 -0.182236  \n",
       "Rain    -0.300998 -0.322746 -0.367767 -0.051964  \n",
       "FFMC     0.613526  0.708738  0.781730  0.251710  \n",
       "DMC      0.983426  0.883802  0.619536  0.210853  \n",
       "DC       0.943125  0.750205  0.551208 -0.056844  \n",
       "ISI      0.652179  0.920125  0.737184  0.290294  \n",
       "BUI      1.000000  0.862592  0.616406  0.115434  \n",
       "FWI      0.862592  1.000000  0.731027  0.223808  \n",
       "Classes  0.616406  0.731027  1.000000  0.177257  \n",
       "Region   0.115434  0.223808  0.177257  1.000000  "
      ]
     },
     "execution_count": 141,
     "metadata": {},
     "output_type": "execute_result"
    }
   ],
   "source": [
    "x_train.corr()"
   ]
  },
  {
   "cell_type": "code",
   "execution_count": 142,
   "id": "4b1cd13b",
   "metadata": {},
   "outputs": [
    {
     "data": {
      "text/plain": [
       "<Axes: >"
      ]
     },
     "execution_count": 142,
     "metadata": {},
     "output_type": "execute_result"
    },
    {
     "data": {
      "image/png": "[encoded data removed]",
      "text/plain": [
       "<Figure size 1000x700 with 2 Axes>"
      ]
     },
     "metadata": {},
     "output_type": "display_data"
    }
   ],
   "source": [
    "plt.figure(figsize=(10,7))\n",
    "sns.heatmap(x_train.corr(),annot=True)"
   ]
  },
  {
   "cell_type": "code",
   "execution_count": 143,
   "id": "0259a3a3",
   "metadata": {},
   "outputs": [],
   "source": [
    "def select_feature(dataset,threshold):\n",
    "    col_cor = set()\n",
    "    corr_matrix = dataset.corr()\n",
    "    for i in range(len(corr_matrix.columns)):\n",
    "        for j in range(i):\n",
    "            if abs(corr_matrix.iloc[i,j]) > threshold:\n",
    "                colname = corr_matrix.columns[i]\n",
    "                col_cor.add(colname)\n",
    "    return col_cor"
   ]
  },
  {
   "cell_type": "code",
   "execution_count": 144,
   "id": "a62eb3a3",
   "metadata": {},
   "outputs": [
    {
     "data": {
      "text/plain": [
       "{'BUI', 'DC', 'FWI'}"
      ]
     },
     "execution_count": 144,
     "metadata": {},
     "output_type": "execute_result"
    }
   ],
   "source": [
    "corr_feature = select_feature(x_train,0.85)\n",
    "corr_feature"
   ]
  },
  {
   "cell_type": "code",
   "execution_count": 145,
   "id": "cf700ff0",
   "metadata": {},
   "outputs": [],
   "source": [
    "x_train.drop(corr_feature,axis=True,inplace=True)\n",
    "x_test.drop(corr_feature,axis=True,inplace=True)"
   ]
  },
  {
   "cell_type": "code",
   "execution_count": 146,
   "id": "80bd5a53",
   "metadata": {},
   "outputs": [
    {
     "data": {
      "text/plain": [
       "((170, 8), (73, 8))"
      ]
     },
     "execution_count": 146,
     "metadata": {},
     "output_type": "execute_result"
    }
   ],
   "source": [
    "x_train.shape,x_test.shape"
   ]
  },
  {
   "cell_type": "code",
   "execution_count": 147,
   "id": "85cb7559",
   "metadata": {},
   "outputs": [],
   "source": [
    "# standardize the data \n",
    "from sklearn.preprocessing import StandardScaler\n",
    "scalar = StandardScaler()"
   ]
  },
  {
   "cell_type": "code",
   "execution_count": 148,
   "id": "c4d37b20",
   "metadata": {},
   "outputs": [],
   "source": [
    "x_train_scaled = scalar.fit_transform(x_train)\n",
    "x_test_scaled = scalar.transform(x_test)"
   ]
  },
  {
   "cell_type": "code",
   "execution_count": 149,
   "id": "40222496",
   "metadata": {},
   "outputs": [
    {
     "data": {
      "text/plain": [
       "(170, 8)"
      ]
     },
     "execution_count": 149,
     "metadata": {},
     "output_type": "execute_result"
    }
   ],
   "source": [
    "x_train_scaled.shape"
   ]
  },
  {
   "cell_type": "markdown",
   "id": "523ae219",
   "metadata": {},
   "source": [
    "## Linear regression"
   ]
  },
  {
   "cell_type": "code",
   "execution_count": 150,
   "id": "83fc0ee4",
   "metadata": {},
   "outputs": [
    {
     "name": "stdout",
     "output_type": "stream",
     "text": [
      "R2 Score 0.5086107117217743\n",
      "Mean Absolute Error 2.001122714519331\n"
     ]
    },
    {
     "data": {
      "text/plain": [
       "<matplotlib.collections.PathCollection at 0x12437aab0>"
      ]
     },
     "execution_count": 150,
     "metadata": {},
     "output_type": "execute_result"
    },
    {
     "data": {
      "image/png": "[encoded data removed]",
      "text/plain": [
       "<Figure size 640x480 with 1 Axes>"
      ]
     },
     "metadata": {},
     "output_type": "display_data"
    }
   ],
   "source": [
    "# this is for multi linear regression\n",
    "from sklearn.linear_model import LinearRegression\n",
    "from sklearn.metrics import r2_score,mean_absolute_error\n",
    "regression = LinearRegression()\n",
    "regression.fit(x_train_scaled,y_train)\n",
    "y_pred = regression.predict(x_test_scaled)\n",
    "r2score_value = r2_score(y_test,y_pred)\n",
    "mae = mean_absolute_error(y_test,y_pred)\n",
    "print(\"R2 Score\",r2score_value)\n",
    "print(\"Mean Absolute Error\",mae)\n",
    "plt.scatter(y_test,y_pred)\n"
   ]
  },
  {
   "cell_type": "markdown",
   "id": "099dcb80",
   "metadata": {},
   "source": [
    "## Lasso Regression"
   ]
  },
  {
   "cell_type": "code",
   "execution_count": 151,
   "id": "f8d1e9fe",
   "metadata": {},
   "outputs": [
    {
     "name": "stdout",
     "output_type": "stream",
     "text": [
      "R2 Score 0.4543837034530257\n",
      "Mean Absolute Error 2.123185084516282\n"
     ]
    },
    {
     "data": {
      "text/plain": [
       "<matplotlib.collections.PathCollection at 0x124276120>"
      ]
     },
     "execution_count": 151,
     "metadata": {},
     "output_type": "execute_result"
    },
    {
     "data": {
      "image/png": "[encoded data removed]",
      "text/plain": [
       "<Figure size 640x480 with 1 Axes>"
      ]
     },
     "metadata": {},
     "output_type": "display_data"
    }
   ],
   "source": [
    "# this is for Lasso  regression\n",
    "from sklearn.linear_model import Lasso\n",
    "from sklearn.metrics import r2_score,mean_absolute_error\n",
    "lassso_regression = Lasso()\n",
    "lassso_regression.fit(x_train_scaled,y_train)\n",
    "y_pred = lassso_regression.predict(x_test_scaled)\n",
    "r2score_value = r2_score(y_test,y_pred)\n",
    "mae = mean_absolute_error(y_test,y_pred)\n",
    "print(\"R2 Score\",r2score_value)\n",
    "print(\"Mean Absolute Error\",mae)\n",
    "plt.scatter(y_test,y_pred)\n"
   ]
  },
  {
   "cell_type": "markdown",
   "id": "0526f569",
   "metadata": {},
   "source": [
    "## Ridge Regression"
   ]
  },
  {
   "cell_type": "code",
   "execution_count": 153,
   "id": "a81715a0",
   "metadata": {},
   "outputs": [
    {
     "name": "stdout",
     "output_type": "stream",
     "text": [
      "R2 Score 0.510661444667541\n",
      "Mean Absolute Error 1.9978124717187418\n"
     ]
    },
    {
     "data": {
      "text/plain": [
       "<matplotlib.collections.PathCollection at 0x124020ad0>"
      ]
     },
     "execution_count": 153,
     "metadata": {},
     "output_type": "execute_result"
    },
    {
     "data": {
      "image/png": "[encoded data removed]",
      "text/plain": [
       "<Figure size 640x480 with 1 Axes>"
      ]
     },
     "metadata": {},
     "output_type": "display_data"
    }
   ],
   "source": [
    "# this is for Ridge  regression\n",
    "from sklearn.linear_model import Ridge\n",
    "from sklearn.metrics import r2_score,mean_absolute_error\n",
    "ridge_regression = Ridge()\n",
    "ridge_regression.fit(x_train_scaled,y_train)\n",
    "y_pred = ridge_regression.predict(x_test_scaled)\n",
    "r2score_value = r2_score(y_test,y_pred)\n",
    "mae = mean_absolute_error(y_test,y_pred)\n",
    "print(\"R2 Score\",r2score_value)\n",
    "print(\"Mean Absolute Error\",mae)\n",
    "plt.scatter(y_test,y_pred)\n"
   ]
  },
  {
   "cell_type": "markdown",
   "id": "87b33b58",
   "metadata": {},
   "source": [
    "## Elastic Net Regression"
   ]
  },
  {
   "cell_type": "code",
   "execution_count": 154,
   "id": "272e391e",
   "metadata": {},
   "outputs": [
    {
     "name": "stdout",
     "output_type": "stream",
     "text": [
      "R2 Score 0.4923609252726663\n",
      "Mean Absolute Error 2.019070652214146\n"
     ]
    },
    {
     "data": {
      "text/plain": [
       "<matplotlib.collections.PathCollection at 0x124020380>"
      ]
     },
     "execution_count": 154,
     "metadata": {},
     "output_type": "execute_result"
    },
    {
     "data": {
      "image/png": "[encoded data removed]",
      "text/plain": [
       "<Figure size 640x480 with 1 Axes>"
      ]
     },
     "metadata": {},
     "output_type": "display_data"
    }
   ],
   "source": [
    "# this is for Elastic net  regression\n",
    "from sklearn.linear_model import ElasticNet\n",
    "from sklearn.metrics import r2_score,mean_absolute_error\n",
    "elasticnet_regression = ElasticNet()\n",
    "elasticnet_regression.fit(x_train_scaled,y_train)\n",
    "y_pred = elasticnet_regression.predict(x_test_scaled)\n",
    "r2score_value = r2_score(y_test,y_pred)\n",
    "mae = mean_absolute_error(y_test,y_pred)\n",
    "print(\"R2 Score\",r2score_value)\n",
    "print(\"Mean Absolute Error\",mae)\n",
    "plt.scatter(y_test,y_pred)\n"
   ]
  },
  {
   "cell_type": "markdown",
   "id": "00039c34",
   "metadata": {},
   "source": [
    "## Cross Validation"
   ]
  },
  {
   "cell_type": "markdown",
   "id": "62ff7ad7",
   "metadata": {},
   "source": [
    "## LassoCV "
   ]
  },
  {
   "cell_type": "code",
   "execution_count": 155,
   "id": "a4041038",
   "metadata": {},
   "outputs": [
    {
     "name": "stdout",
     "output_type": "stream",
     "text": [
      "R2 Score 0.5497147850877853\n",
      "Mean Absolute Error 1.9306591883657906\n"
     ]
    },
    {
     "data": {
      "text/plain": [
       "<matplotlib.collections.PathCollection at 0x1246d6d20>"
      ]
     },
     "execution_count": 155,
     "metadata": {},
     "output_type": "execute_result"
    },
    {
     "data": {
      "image/png": "[encoded data removed]",
      "text/plain": [
       "<Figure size 640x480 with 1 Axes>"
      ]
     },
     "metadata": {},
     "output_type": "display_data"
    }
   ],
   "source": [
    "# this is for Lasso CV  regression\n",
    "from sklearn.linear_model import LassoCV\n",
    "from sklearn.metrics import r2_score,mean_absolute_error\n",
    "lassocv_regression = LassoCV(cv=5)\n",
    "lassocv_regression.fit(x_train_scaled,y_train)\n",
    "y_pred = lassocv_regression.predict(x_test_scaled)\n",
    "r2score_value = r2_score(y_test,y_pred)\n",
    "mae = mean_absolute_error(y_test,y_pred)\n",
    "print(\"R2 Score\",r2score_value)\n",
    "print(\"Mean Absolute Error\",mae)\n",
    "plt.scatter(y_test,y_pred)\n"
   ]
  },
  {
   "cell_type": "markdown",
   "id": "ee59c62a",
   "metadata": {},
   "source": [
    "## RidgeCV"
   ]
  },
  {
   "cell_type": "code",
   "execution_count": 157,
   "id": "e2d60b33",
   "metadata": {},
   "outputs": [
    {
     "name": "stdout",
     "output_type": "stream",
     "text": [
      "R2 Score 0.524038361953408\n",
      "Mean Absolute Error 1.974669891509206\n"
     ]
    },
    {
     "data": {
      "text/plain": [
       "<matplotlib.collections.PathCollection at 0x124340050>"
      ]
     },
     "execution_count": 157,
     "metadata": {},
     "output_type": "execute_result"
    },
    {
     "data": {
      "image/png": "[encoded data removed]",
      "text/plain": [
       "<Figure size 640x480 with 1 Axes>"
      ]
     },
     "metadata": {},
     "output_type": "display_data"
    }
   ],
   "source": [
    "# this is for Ridge CV  regression\n",
    "from sklearn.linear_model import RidgeCV\n",
    "from sklearn.metrics import r2_score,mean_absolute_error\n",
    "ridgecv_regression = RidgeCV(cv=5)\n",
    "ridgecv_regression.fit(x_train_scaled,y_train)\n",
    "y_pred = ridgecv_regression.predict(x_test_scaled)\n",
    "r2score_value = r2_score(y_test,y_pred)\n",
    "mae = mean_absolute_error(y_test,y_pred)\n",
    "print(\"R2 Score\",r2score_value)\n",
    "print(\"Mean Absolute Error\",mae)\n",
    "plt.scatter(y_test,y_pred)\n"
   ]
  },
  {
   "cell_type": "markdown",
   "id": "d58d1f58",
   "metadata": {},
   "source": [
    "## ElasticNet CV "
   ]
  },
  {
   "cell_type": "code",
   "execution_count": 158,
   "id": "ab206ea2",
   "metadata": {},
   "outputs": [
    {
     "name": "stdout",
     "output_type": "stream",
     "text": [
      "R2 Score 0.5504127687542346\n",
      "Mean Absolute Error 1.9189055344579107\n"
     ]
    },
    {
     "data": {
      "text/plain": [
       "<matplotlib.collections.PathCollection at 0x1248123f0>"
      ]
     },
     "execution_count": 158,
     "metadata": {},
     "output_type": "execute_result"
    },
    {
     "data": {
      "image/png": "[encoded data removed]",
      "text/plain": [
       "<Figure size 640x480 with 1 Axes>"
      ]
     },
     "metadata": {},
     "output_type": "display_data"
    }
   ],
   "source": [
    "# this is for Elastic net CV  regression\n",
    "from sklearn.linear_model import ElasticNetCV\n",
    "from sklearn.metrics import r2_score,mean_absolute_error\n",
    "elasticnetcv_regression = ElasticNetCV(cv=5)\n",
    "elasticnetcv_regression.fit(x_train_scaled,y_train)\n",
    "y_pred = elasticnetcv_regression.predict(x_test_scaled)\n",
    "r2score_value = r2_score(y_test,y_pred)\n",
    "mae = mean_absolute_error(y_test,y_pred)\n",
    "print(\"R2 Score\",r2score_value)\n",
    "print(\"Mean Absolute Error\",mae)\n",
    "plt.scatter(y_test,y_pred)\n"
   ]
  },
  {
   "cell_type": "markdown",
   "id": "0112449f",
   "metadata": {},
   "source": [
    "## Pickle the ML model and preprocessing model standardscaler"
   ]
  },
  {
   "cell_type": "code",
   "execution_count": 162,
   "id": "1773ba22",
   "metadata": {},
   "outputs": [],
   "source": [
    "import pickle\n",
    "pickle.dump(scalar,open('scalar.pkl','wb'))\n",
    "pickle.dump(elasticnetcv_regression,open('model.pkl','wb'))\n"
   ]
  },
  {
   "cell_type": "code",
   "execution_count": null,
   "id": "36b14ef6",
   "metadata": {},
   "outputs": [],
   "source": []
  }
 ],
 "metadata": {
  "kernelspec": {
   "display_name": "Python 3",
   "language": "python",
   "name": "python3"
  },
  "language_info": {
   "codemirror_mode": {
    "name": "ipython",
    "version": 3
   },
   "file_extension": ".py",
   "mimetype": "text/x-python",
   "name": "python",
   "nbconvert_exporter": "python",
   "pygments_lexer": "ipython3",
   "version": "3.12.11"
  }
 },
 "nbformat": 4,
 "nbformat_minor": 5
}
